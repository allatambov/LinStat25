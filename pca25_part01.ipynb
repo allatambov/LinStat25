{
 "cells": [
  {
   "cell_type": "markdown",
   "metadata": {},
   "source": [
    "# Линейная алгебра и приложения в многомерной статистике\n",
    "\n",
    "*Алла Тамбовцева, НИУ ВШЭ*\n",
    "\n",
    "## Метод главных компонент: практикум с библиотекой `sklearn`\n",
    "\n",
    "### Часть 1: реализуем МГК и выбираем число компонент\n",
    "\n",
    "Импортируем необходимые библиотеки и модули:\n",
    "\n",
    "* стандартный набор: `pandas` для работы с таблицами, `numpy` для работы с массивами, `matplotlib` для графики;\n",
    "* функция, а точнее, класс `StandardScaler()` из `sklearn` для стандартизации данных;\n",
    "* функция, а точнее, класс `PCA()` из `sklearn` для реализации МГК."
   ]
  },
  {
   "cell_type": "code",
   "execution_count": 1,
   "metadata": {},
   "outputs": [],
   "source": [
    "import pandas as pd\n",
    "import numpy as np\n",
    "from matplotlib import pyplot as plt\n",
    "\n",
    "from sklearn.preprocessing import StandardScaler\n",
    "from sklearn.decomposition import PCA"
   ]
  },
  {
   "cell_type": "markdown",
   "metadata": {},
   "source": [
    "Загрузим данные по пиццам из файла `pizza.csv`:"
   ]
  },
  {
   "cell_type": "code",
   "execution_count": 2,
   "metadata": {},
   "outputs": [
    {
     "data": {
      "text/html": [
       "<div>\n",
       "<style scoped>\n",
       "    .dataframe tbody tr th:only-of-type {\n",
       "        vertical-align: middle;\n",
       "    }\n",
       "\n",
       "    .dataframe tbody tr th {\n",
       "        vertical-align: top;\n",
       "    }\n",
       "\n",
       "    .dataframe thead th {\n",
       "        text-align: right;\n",
       "    }\n",
       "</style>\n",
       "<table border=\"1\" class=\"dataframe\">\n",
       "  <thead>\n",
       "    <tr style=\"text-align: right;\">\n",
       "      <th></th>\n",
       "      <th>brand</th>\n",
       "      <th>id</th>\n",
       "      <th>mois</th>\n",
       "      <th>prot</th>\n",
       "      <th>fat</th>\n",
       "      <th>ash</th>\n",
       "      <th>sodium</th>\n",
       "      <th>carb</th>\n",
       "      <th>cal</th>\n",
       "    </tr>\n",
       "  </thead>\n",
       "  <tbody>\n",
       "    <tr>\n",
       "      <th>0</th>\n",
       "      <td>A</td>\n",
       "      <td>14069</td>\n",
       "      <td>27.82</td>\n",
       "      <td>21.43</td>\n",
       "      <td>44.87</td>\n",
       "      <td>5.11</td>\n",
       "      <td>1.77</td>\n",
       "      <td>0.77</td>\n",
       "      <td>4.93</td>\n",
       "    </tr>\n",
       "    <tr>\n",
       "      <th>1</th>\n",
       "      <td>A</td>\n",
       "      <td>14053</td>\n",
       "      <td>28.49</td>\n",
       "      <td>21.26</td>\n",
       "      <td>43.89</td>\n",
       "      <td>5.34</td>\n",
       "      <td>1.79</td>\n",
       "      <td>1.02</td>\n",
       "      <td>4.84</td>\n",
       "    </tr>\n",
       "    <tr>\n",
       "      <th>2</th>\n",
       "      <td>A</td>\n",
       "      <td>14025</td>\n",
       "      <td>28.35</td>\n",
       "      <td>19.99</td>\n",
       "      <td>45.78</td>\n",
       "      <td>5.08</td>\n",
       "      <td>1.63</td>\n",
       "      <td>0.80</td>\n",
       "      <td>4.95</td>\n",
       "    </tr>\n",
       "    <tr>\n",
       "      <th>3</th>\n",
       "      <td>A</td>\n",
       "      <td>14016</td>\n",
       "      <td>30.55</td>\n",
       "      <td>20.15</td>\n",
       "      <td>43.13</td>\n",
       "      <td>4.79</td>\n",
       "      <td>1.61</td>\n",
       "      <td>1.38</td>\n",
       "      <td>4.74</td>\n",
       "    </tr>\n",
       "    <tr>\n",
       "      <th>4</th>\n",
       "      <td>A</td>\n",
       "      <td>14005</td>\n",
       "      <td>30.49</td>\n",
       "      <td>21.28</td>\n",
       "      <td>41.65</td>\n",
       "      <td>4.82</td>\n",
       "      <td>1.64</td>\n",
       "      <td>1.76</td>\n",
       "      <td>4.67</td>\n",
       "    </tr>\n",
       "  </tbody>\n",
       "</table>\n",
       "</div>"
      ],
      "text/plain": [
       "  brand     id   mois   prot    fat   ash  sodium  carb   cal\n",
       "0     A  14069  27.82  21.43  44.87  5.11    1.77  0.77  4.93\n",
       "1     A  14053  28.49  21.26  43.89  5.34    1.79  1.02  4.84\n",
       "2     A  14025  28.35  19.99  45.78  5.08    1.63  0.80  4.95\n",
       "3     A  14016  30.55  20.15  43.13  4.79    1.61  1.38  4.74\n",
       "4     A  14005  30.49  21.28  41.65  4.82    1.64  1.76  4.67"
      ]
     },
     "execution_count": 2,
     "metadata": {},
     "output_type": "execute_result"
    }
   ],
   "source": [
    "# вспоминаем английский и лексику из тем о правильном питании :)\n",
    "\n",
    "pizza = pd.read_csv(\"pizza.csv\")\n",
    "pizza.head()"
   ]
  },
  {
   "cell_type": "markdown",
   "metadata": {},
   "source": [
    "Пояснения по столбцам:\n",
    "\n",
    "* `brand`: зашифрованное название производителя пиццы;\n",
    "* `id`: id пиццы;\n",
    "* `mois`: содержание (здесь и далее – все на 100 граммов пиццы);\n",
    "* `prot`: содержание белков;\n",
    "* `fat`: содержание жиров;\n",
    "* `ash`: содержание минеральных веществ (зольные вещества);\n",
    "* `sodium`: содержание натрия;\n",
    "* `carb`: содержание углеводов;\n",
    "* `cal`: калорийность пиццы.\n",
    "\n",
    "Одна строка в таблице – пицца одного вида (четыре сыра, пепперони, классическая и прочие, просто он зашифрован), выпускаемая определенным производителем. Выберем столбцы типа `float` – текстовое название бренда нам не подойдёт, целочисленный id тоже ни к чему:"
   ]
  },
  {
   "cell_type": "code",
   "execution_count": 3,
   "metadata": {},
   "outputs": [
    {
     "data": {
      "text/html": [
       "<div>\n",
       "<style scoped>\n",
       "    .dataframe tbody tr th:only-of-type {\n",
       "        vertical-align: middle;\n",
       "    }\n",
       "\n",
       "    .dataframe tbody tr th {\n",
       "        vertical-align: top;\n",
       "    }\n",
       "\n",
       "    .dataframe thead th {\n",
       "        text-align: right;\n",
       "    }\n",
       "</style>\n",
       "<table border=\"1\" class=\"dataframe\">\n",
       "  <thead>\n",
       "    <tr style=\"text-align: right;\">\n",
       "      <th></th>\n",
       "      <th>mois</th>\n",
       "      <th>prot</th>\n",
       "      <th>fat</th>\n",
       "      <th>ash</th>\n",
       "      <th>sodium</th>\n",
       "      <th>carb</th>\n",
       "      <th>cal</th>\n",
       "    </tr>\n",
       "  </thead>\n",
       "  <tbody>\n",
       "    <tr>\n",
       "      <th>0</th>\n",
       "      <td>27.82</td>\n",
       "      <td>21.43</td>\n",
       "      <td>44.87</td>\n",
       "      <td>5.11</td>\n",
       "      <td>1.77</td>\n",
       "      <td>0.77</td>\n",
       "      <td>4.93</td>\n",
       "    </tr>\n",
       "    <tr>\n",
       "      <th>1</th>\n",
       "      <td>28.49</td>\n",
       "      <td>21.26</td>\n",
       "      <td>43.89</td>\n",
       "      <td>5.34</td>\n",
       "      <td>1.79</td>\n",
       "      <td>1.02</td>\n",
       "      <td>4.84</td>\n",
       "    </tr>\n",
       "    <tr>\n",
       "      <th>2</th>\n",
       "      <td>28.35</td>\n",
       "      <td>19.99</td>\n",
       "      <td>45.78</td>\n",
       "      <td>5.08</td>\n",
       "      <td>1.63</td>\n",
       "      <td>0.80</td>\n",
       "      <td>4.95</td>\n",
       "    </tr>\n",
       "    <tr>\n",
       "      <th>3</th>\n",
       "      <td>30.55</td>\n",
       "      <td>20.15</td>\n",
       "      <td>43.13</td>\n",
       "      <td>4.79</td>\n",
       "      <td>1.61</td>\n",
       "      <td>1.38</td>\n",
       "      <td>4.74</td>\n",
       "    </tr>\n",
       "    <tr>\n",
       "      <th>4</th>\n",
       "      <td>30.49</td>\n",
       "      <td>21.28</td>\n",
       "      <td>41.65</td>\n",
       "      <td>4.82</td>\n",
       "      <td>1.64</td>\n",
       "      <td>1.76</td>\n",
       "      <td>4.67</td>\n",
       "    </tr>\n",
       "  </tbody>\n",
       "</table>\n",
       "</div>"
      ],
      "text/plain": [
       "    mois   prot    fat   ash  sodium  carb   cal\n",
       "0  27.82  21.43  44.87  5.11    1.77  0.77  4.93\n",
       "1  28.49  21.26  43.89  5.34    1.79  1.02  4.84\n",
       "2  28.35  19.99  45.78  5.08    1.63  0.80  4.95\n",
       "3  30.55  20.15  43.13  4.79    1.61  1.38  4.74\n",
       "4  30.49  21.28  41.65  4.82    1.64  1.76  4.67"
      ]
     },
     "execution_count": 3,
     "metadata": {},
     "output_type": "execute_result"
    }
   ],
   "source": [
    "X = pizza.select_dtypes(float)\n",
    "X.head()"
   ]
  },
  {
   "cell_type": "markdown",
   "metadata": {},
   "source": [
    "Выбранные показатели связаны друг с другом, наша **задача** – на основе 7 показателей, связанных друг с другом, получить 7 главных компонент, а затем отобрать из них несколько самых информативных (менее 7). Проверим, что переменные связаны между собой линейной связью – построим корреляционную матрицу:"
   ]
  },
  {
   "cell_type": "code",
   "execution_count": 4,
   "metadata": {},
   "outputs": [
    {
     "name": "stdout",
     "output_type": "stream",
     "text": [
      "            mois      prot       fat       ash    sodium      carb       cal\n",
      "mois    1.000000  0.360248 -0.171318  0.265556 -0.102279 -0.591802 -0.764441\n",
      "prot    0.360248  1.000000  0.498002  0.823844  0.429130 -0.853542  0.070258\n",
      "fat    -0.171318  0.498002  1.000000  0.791634  0.933325 -0.640238  0.764567\n",
      "ash     0.265556  0.823844  0.791634  1.000000  0.808122 -0.898988  0.326468\n",
      "sodium -0.102279  0.429130  0.933325  0.808122  1.000000 -0.620176  0.671958\n",
      "carb   -0.591802 -0.853542 -0.640238 -0.898988 -0.620176  1.000000 -0.023485\n",
      "cal    -0.764441  0.070258  0.764567  0.326468  0.671958 -0.023485  1.000000\n"
     ]
    }
   ],
   "source": [
    "print(X.corr())"
   ]
  },
  {
   "cell_type": "markdown",
   "metadata": {},
   "source": [
    "Для наглядности можем построить матрицу диаграмм рассеивания (диаграммы рассеяивания для всех пар показателей, на диагонали – гистограммы для каждого показателя):"
   ]
  },
  {
   "cell_type": "code",
   "execution_count": 5,
   "metadata": {},
   "outputs": [
    {
     "data": {
      "image/png": "[encoded data removed]",
      "text/plain": [
       "<Figure size 1008x1008 with 49 Axes>"
      ]
     },
     "metadata": {
      "needs_background": "light"
     },
     "output_type": "display_data"
    }
   ],
   "source": [
    "# размер 14 на 14 дюймов\n",
    "\n",
    "pd.plotting.scatter_matrix(X, \n",
    "                           figsize = (14, 14));"
   ]
  },
  {
   "cell_type": "markdown",
   "metadata": {},
   "source": [
    "Прошкалируем данные – выполним их стандартизацию с помощью `StandardScaler()`:"
   ]
  },
  {
   "cell_type": "code",
   "execution_count": 6,
   "metadata": {},
   "outputs": [
    {
     "data": {
      "text/html": [
       "<div>\n",
       "<style scoped>\n",
       "    .dataframe tbody tr th:only-of-type {\n",
       "        vertical-align: middle;\n",
       "    }\n",
       "\n",
       "    .dataframe tbody tr th {\n",
       "        vertical-align: top;\n",
       "    }\n",
       "\n",
       "    .dataframe thead th {\n",
       "        text-align: right;\n",
       "    }\n",
       "</style>\n",
       "<table border=\"1\" class=\"dataframe\">\n",
       "  <thead>\n",
       "    <tr style=\"text-align: right;\">\n",
       "      <th></th>\n",
       "      <th>mois</th>\n",
       "      <th>prot</th>\n",
       "      <th>fat</th>\n",
       "      <th>ash</th>\n",
       "      <th>sodium</th>\n",
       "      <th>carb</th>\n",
       "      <th>cal</th>\n",
       "    </tr>\n",
       "  </thead>\n",
       "  <tbody>\n",
       "    <tr>\n",
       "      <th>0</th>\n",
       "      <td>-1.371815</td>\n",
       "      <td>1.254181</td>\n",
       "      <td>2.749841</td>\n",
       "      <td>1.953894</td>\n",
       "      <td>2.976687</td>\n",
       "      <td>-1.227511</td>\n",
       "      <td>2.680129</td>\n",
       "    </tr>\n",
       "    <tr>\n",
       "      <th>1</th>\n",
       "      <td>-1.301562</td>\n",
       "      <td>1.227717</td>\n",
       "      <td>2.640475</td>\n",
       "      <td>2.135338</td>\n",
       "      <td>3.030779</td>\n",
       "      <td>-1.213622</td>\n",
       "      <td>2.534733</td>\n",
       "    </tr>\n",
       "    <tr>\n",
       "      <th>2</th>\n",
       "      <td>-1.316242</td>\n",
       "      <td>1.030010</td>\n",
       "      <td>2.851396</td>\n",
       "      <td>1.930227</td>\n",
       "      <td>2.598042</td>\n",
       "      <td>-1.225844</td>\n",
       "      <td>2.712439</td>\n",
       "    </tr>\n",
       "    <tr>\n",
       "      <th>3</th>\n",
       "      <td>-1.085563</td>\n",
       "      <td>1.054918</td>\n",
       "      <td>2.555660</td>\n",
       "      <td>1.701449</td>\n",
       "      <td>2.543950</td>\n",
       "      <td>-1.193622</td>\n",
       "      <td>2.373183</td>\n",
       "    </tr>\n",
       "    <tr>\n",
       "      <th>4</th>\n",
       "      <td>-1.091854</td>\n",
       "      <td>1.230830</td>\n",
       "      <td>2.390494</td>\n",
       "      <td>1.725116</td>\n",
       "      <td>2.625088</td>\n",
       "      <td>-1.172510</td>\n",
       "      <td>2.260097</td>\n",
       "    </tr>\n",
       "    <tr>\n",
       "      <th>5</th>\n",
       "      <td>-1.023699</td>\n",
       "      <td>1.067372</td>\n",
       "      <td>2.464149</td>\n",
       "      <td>1.804005</td>\n",
       "      <td>2.652134</td>\n",
       "      <td>-1.192510</td>\n",
       "      <td>2.260097</td>\n",
       "    </tr>\n",
       "    <tr>\n",
       "      <th>6</th>\n",
       "      <td>-1.016359</td>\n",
       "      <td>1.182571</td>\n",
       "      <td>2.355898</td>\n",
       "      <td>1.638338</td>\n",
       "      <td>2.462812</td>\n",
       "      <td>-1.171954</td>\n",
       "      <td>2.195477</td>\n",
       "    </tr>\n",
       "    <tr>\n",
       "      <th>7</th>\n",
       "      <td>-1.273252</td>\n",
       "      <td>1.251068</td>\n",
       "      <td>2.384914</td>\n",
       "      <td>2.088005</td>\n",
       "      <td>2.922595</td>\n",
       "      <td>-1.106398</td>\n",
       "      <td>2.340872</td>\n",
       "    </tr>\n",
       "    <tr>\n",
       "      <th>8</th>\n",
       "      <td>-1.329873</td>\n",
       "      <td>1.106290</td>\n",
       "      <td>2.775509</td>\n",
       "      <td>1.882894</td>\n",
       "      <td>2.814410</td>\n",
       "      <td>-1.204733</td>\n",
       "      <td>2.680129</td>\n",
       "    </tr>\n",
       "    <tr>\n",
       "      <th>9</th>\n",
       "      <td>-1.382300</td>\n",
       "      <td>1.216819</td>\n",
       "      <td>2.796713</td>\n",
       "      <td>1.993338</td>\n",
       "      <td>2.679180</td>\n",
       "      <td>-1.234733</td>\n",
       "      <td>2.712439</td>\n",
       "    </tr>\n",
       "    <tr>\n",
       "      <th>10</th>\n",
       "      <td>-1.421096</td>\n",
       "      <td>1.218376</td>\n",
       "      <td>2.830192</td>\n",
       "      <td>1.819783</td>\n",
       "      <td>2.652134</td>\n",
       "      <td>-1.219178</td>\n",
       "      <td>2.760905</td>\n",
       "    </tr>\n",
       "    <tr>\n",
       "      <th>11</th>\n",
       "      <td>-1.459892</td>\n",
       "      <td>1.218376</td>\n",
       "      <td>2.767697</td>\n",
       "      <td>1.985449</td>\n",
       "      <td>2.706226</td>\n",
       "      <td>-1.179177</td>\n",
       "      <td>2.744750</td>\n",
       "    </tr>\n",
       "    <tr>\n",
       "      <th>12</th>\n",
       "      <td>-1.279543</td>\n",
       "      <td>1.031567</td>\n",
       "      <td>2.777741</td>\n",
       "      <td>1.811894</td>\n",
       "      <td>2.408720</td>\n",
       "      <td>-1.200844</td>\n",
       "      <td>2.647819</td>\n",
       "    </tr>\n",
       "    <tr>\n",
       "      <th>13</th>\n",
       "      <td>-1.047815</td>\n",
       "      <td>0.977081</td>\n",
       "      <td>2.479773</td>\n",
       "      <td>1.717227</td>\n",
       "      <td>2.652134</td>\n",
       "      <td>-1.114176</td>\n",
       "      <td>2.340872</td>\n",
       "    </tr>\n",
       "    <tr>\n",
       "      <th>14</th>\n",
       "      <td>-1.047815</td>\n",
       "      <td>1.151436</td>\n",
       "      <td>2.432901</td>\n",
       "      <td>1.788227</td>\n",
       "      <td>2.543950</td>\n",
       "      <td>-1.193066</td>\n",
       "      <td>2.260097</td>\n",
       "    </tr>\n",
       "  </tbody>\n",
       "</table>\n",
       "</div>"
      ],
      "text/plain": [
       "        mois      prot       fat       ash    sodium      carb       cal\n",
       "0  -1.371815  1.254181  2.749841  1.953894  2.976687 -1.227511  2.680129\n",
       "1  -1.301562  1.227717  2.640475  2.135338  3.030779 -1.213622  2.534733\n",
       "2  -1.316242  1.030010  2.851396  1.930227  2.598042 -1.225844  2.712439\n",
       "3  -1.085563  1.054918  2.555660  1.701449  2.543950 -1.193622  2.373183\n",
       "4  -1.091854  1.230830  2.390494  1.725116  2.625088 -1.172510  2.260097\n",
       "5  -1.023699  1.067372  2.464149  1.804005  2.652134 -1.192510  2.260097\n",
       "6  -1.016359  1.182571  2.355898  1.638338  2.462812 -1.171954  2.195477\n",
       "7  -1.273252  1.251068  2.384914  2.088005  2.922595 -1.106398  2.340872\n",
       "8  -1.329873  1.106290  2.775509  1.882894  2.814410 -1.204733  2.680129\n",
       "9  -1.382300  1.216819  2.796713  1.993338  2.679180 -1.234733  2.712439\n",
       "10 -1.421096  1.218376  2.830192  1.819783  2.652134 -1.219178  2.760905\n",
       "11 -1.459892  1.218376  2.767697  1.985449  2.706226 -1.179177  2.744750\n",
       "12 -1.279543  1.031567  2.777741  1.811894  2.408720 -1.200844  2.647819\n",
       "13 -1.047815  0.977081  2.479773  1.717227  2.652134 -1.114176  2.340872\n",
       "14 -1.047815  1.151436  2.432901  1.788227  2.543950 -1.193066  2.260097"
      ]
     },
     "execution_count": 6,
     "metadata": {},
     "output_type": "execute_result"
    }
   ],
   "source": [
    "# fit_transform: \n",
    "# fit: считает среднее и ст отклонение\n",
    "# transform: использует их и стандартизирует данные\n",
    "\n",
    "X_scaled = StandardScaler().fit_transform(X) # массив\n",
    "X_scaled = pd.DataFrame(X_scaled) # датафрейм\n",
    "X_scaled.columns = X.columns # добавляем названия для ясности\n",
    "X_scaled.head(15)"
   ]
  },
  {
   "cell_type": "markdown",
   "metadata": {},
   "source": [
    "Чтобы не было сомнений, что данные центрированы и нормированы, посмотрим на описательные статистики:"
   ]
  },
  {
   "cell_type": "code",
   "execution_count": 7,
   "metadata": {},
   "outputs": [
    {
     "data": {
      "text/html": [
       "<div>\n",
       "<style scoped>\n",
       "    .dataframe tbody tr th:only-of-type {\n",
       "        vertical-align: middle;\n",
       "    }\n",
       "\n",
       "    .dataframe tbody tr th {\n",
       "        vertical-align: top;\n",
       "    }\n",
       "\n",
       "    .dataframe thead th {\n",
       "        text-align: right;\n",
       "    }\n",
       "</style>\n",
       "<table border=\"1\" class=\"dataframe\">\n",
       "  <thead>\n",
       "    <tr style=\"text-align: right;\">\n",
       "      <th></th>\n",
       "      <th>mois</th>\n",
       "      <th>prot</th>\n",
       "      <th>fat</th>\n",
       "      <th>ash</th>\n",
       "      <th>sodium</th>\n",
       "      <th>carb</th>\n",
       "      <th>cal</th>\n",
       "    </tr>\n",
       "  </thead>\n",
       "  <tbody>\n",
       "    <tr>\n",
       "      <th>count</th>\n",
       "      <td>300.00</td>\n",
       "      <td>300.00</td>\n",
       "      <td>300.00</td>\n",
       "      <td>300.00</td>\n",
       "      <td>300.00</td>\n",
       "      <td>300.00</td>\n",
       "      <td>300.00</td>\n",
       "    </tr>\n",
       "    <tr>\n",
       "      <th>mean</th>\n",
       "      <td>-0.00</td>\n",
       "      <td>0.00</td>\n",
       "      <td>-0.00</td>\n",
       "      <td>-0.00</td>\n",
       "      <td>-0.00</td>\n",
       "      <td>-0.00</td>\n",
       "      <td>0.00</td>\n",
       "    </tr>\n",
       "    <tr>\n",
       "      <th>std</th>\n",
       "      <td>1.00</td>\n",
       "      <td>1.00</td>\n",
       "      <td>1.00</td>\n",
       "      <td>1.00</td>\n",
       "      <td>1.00</td>\n",
       "      <td>1.00</td>\n",
       "      <td>1.00</td>\n",
       "    </tr>\n",
       "    <tr>\n",
       "      <th>min</th>\n",
       "      <td>-1.67</td>\n",
       "      <td>-1.00</td>\n",
       "      <td>-1.77</td>\n",
       "      <td>-1.15</td>\n",
       "      <td>-1.13</td>\n",
       "      <td>-1.24</td>\n",
       "      <td>-1.76</td>\n",
       "    </tr>\n",
       "    <tr>\n",
       "      <th>25%</th>\n",
       "      <td>-1.05</td>\n",
       "      <td>-0.83</td>\n",
       "      <td>-0.61</td>\n",
       "      <td>-0.93</td>\n",
       "      <td>-0.59</td>\n",
       "      <td>-1.08</td>\n",
       "      <td>-0.58</td>\n",
       "    </tr>\n",
       "    <tr>\n",
       "      <th>50%</th>\n",
       "      <td>0.25</td>\n",
       "      <td>-0.46</td>\n",
       "      <td>-0.35</td>\n",
       "      <td>-0.32</td>\n",
       "      <td>-0.49</td>\n",
       "      <td>0.02</td>\n",
       "      <td>-0.09</td>\n",
       "    </tr>\n",
       "    <tr>\n",
       "      <th>75%</th>\n",
       "      <td>0.86</td>\n",
       "      <td>1.04</td>\n",
       "      <td>0.13</td>\n",
       "      <td>0.76</td>\n",
       "      <td>0.09</td>\n",
       "      <td>1.03</td>\n",
       "      <td>0.40</td>\n",
       "    </tr>\n",
       "    <tr>\n",
       "      <th>max</th>\n",
       "      <td>1.71</td>\n",
       "      <td>2.35</td>\n",
       "      <td>3.01</td>\n",
       "      <td>2.21</td>\n",
       "      <td>3.03</td>\n",
       "      <td>1.43</td>\n",
       "      <td>2.92</td>\n",
       "    </tr>\n",
       "  </tbody>\n",
       "</table>\n",
       "</div>"
      ],
      "text/plain": [
       "         mois    prot     fat     ash  sodium    carb     cal\n",
       "count  300.00  300.00  300.00  300.00  300.00  300.00  300.00\n",
       "mean    -0.00    0.00   -0.00   -0.00   -0.00   -0.00    0.00\n",
       "std      1.00    1.00    1.00    1.00    1.00    1.00    1.00\n",
       "min     -1.67   -1.00   -1.77   -1.15   -1.13   -1.24   -1.76\n",
       "25%     -1.05   -0.83   -0.61   -0.93   -0.59   -1.08   -0.58\n",
       "50%      0.25   -0.46   -0.35   -0.32   -0.49    0.02   -0.09\n",
       "75%      0.86    1.04    0.13    0.76    0.09    1.03    0.40\n",
       "max      1.71    2.35    3.01    2.21    3.03    1.43    2.92"
      ]
     },
     "execution_count": 7,
     "metadata": {},
     "output_type": "execute_result"
    }
   ],
   "source": [
    "# так и есть, среднее 0, ст отклонение 1\n",
    "\n",
    "X_scaled.describe().round(2)"
   ]
  },
  {
   "cell_type": "markdown",
   "metadata": {},
   "source": [
    "Несмотря на то, что мы изменили шкалу, сделав так, что у всех показателей стандартное отклонение 1, разброс значений переменных везде различный – посмотрите на квартили и размах, сравнив минимум и максимум.\n",
    "\n",
    "Связи в данных после стандартизации тоже не «потярялись»:"
   ]
  },
  {
   "cell_type": "code",
   "execution_count": 8,
   "metadata": {},
   "outputs": [
    {
     "name": "stdout",
     "output_type": "stream",
     "text": [
      "            mois      prot       fat       ash    sodium      carb       cal\n",
      "mois    1.000000  0.360248 -0.171318  0.265556 -0.102279 -0.591802 -0.764441\n",
      "prot    0.360248  1.000000  0.498002  0.823844  0.429130 -0.853542  0.070258\n",
      "fat    -0.171318  0.498002  1.000000  0.791634  0.933325 -0.640238  0.764567\n",
      "ash     0.265556  0.823844  0.791634  1.000000  0.808122 -0.898988  0.326468\n",
      "sodium -0.102279  0.429130  0.933325  0.808122  1.000000 -0.620176  0.671958\n",
      "carb   -0.591802 -0.853542 -0.640238 -0.898988 -0.620176  1.000000 -0.023485\n",
      "cal    -0.764441  0.070258  0.764567  0.326468  0.671958 -0.023485  1.000000\n"
     ]
    }
   ],
   "source": [
    "print(X_scaled.corr())"
   ]
  },
  {
   "cell_type": "markdown",
   "metadata": {},
   "source": [
    "Выведем размерность датафрейма и сохраним число столбцов в переменную `p` – нам потребуется получить ровно столько же главных компонент (а из них позже уже отберём наиболее информативные):"
   ]
  },
  {
   "cell_type": "code",
   "execution_count": 9,
   "metadata": {},
   "outputs": [
    {
     "name": "stdout",
     "output_type": "stream",
     "text": [
      "(300, 7)\n"
     ]
    }
   ],
   "source": [
    "# 300 строк и 7 столбцов\n",
    "print(X_scaled.shape)"
   ]
  },
  {
   "cell_type": "code",
   "execution_count": 10,
   "metadata": {},
   "outputs": [
    {
     "name": "stdout",
     "output_type": "stream",
     "text": [
      "7\n"
     ]
    }
   ],
   "source": [
    "# забираем второй элемент\n",
    "p = X_scaled.shape[1]\n",
    "print(p)"
   ]
  },
  {
   "cell_type": "markdown",
   "metadata": {},
   "source": [
    "Чтобы далее добавлять к полученным результатам понятные подписи, создадим список с названиями главных компонент `PC1`-`PC7`:"
   ]
  },
  {
   "cell_type": "code",
   "execution_count": 11,
   "metadata": {},
   "outputs": [
    {
     "name": "stdout",
     "output_type": "stream",
     "text": [
      "['PC1', 'PC2', 'PC3', 'PC4', 'PC5', 'PC6', 'PC7']\n"
     ]
    }
   ],
   "source": [
    "pca_names = [\"PC\" + str(i) for i in range(1, p + 1)]\n",
    "print(pca_names)"
   ]
  },
  {
   "cell_type": "markdown",
   "metadata": {},
   "source": [
    "Создадим объект класса `PCA`, в котором позже будут храниться результаты реализации метода главных компонент:"
   ]
  },
  {
   "cell_type": "code",
   "execution_count": 12,
   "metadata": {},
   "outputs": [
    {
     "name": "stdout",
     "output_type": "stream",
     "text": [
      "PCA(n_components=7)\n"
     ]
    }
   ],
   "source": [
    "# pca – контейнер для хранения результатов PCA\n",
    "# пока там только информация о числе компонент\n",
    "\n",
    "pca = PCA(n_components = p)\n",
    "print(pca)"
   ]
  },
  {
   "cell_type": "markdown",
   "metadata": {},
   "source": [
    "Реализуем МГК на данных `X_scaled`, применив метод `.fit_transform()` к объекту `pca`:"
   ]
  },
  {
   "cell_type": "code",
   "execution_count": 13,
   "metadata": {},
   "outputs": [
    {
     "name": "stdout",
     "output_type": "stream",
     "text": [
      "            0         1         2         3         4         5         6\n",
      "0    5.010343  2.679215 -0.039327  0.144106 -0.284015  0.002339 -0.000960\n",
      "1    5.023755  2.529295 -0.097056  0.353950 -0.215269 -0.002952 -0.001022\n",
      "2    4.805439  2.673700 -0.075475 -0.107798  0.035038 -0.005424 -0.000832\n",
      "3    4.469543  2.285029 -0.120233 -0.054028 -0.174501 -0.005627 -0.000946\n",
      "4    4.471893  2.159152 -0.000738  0.117166 -0.313027 -0.001689 -0.000968\n",
      "..        ...       ...       ...       ...       ...       ...       ...\n",
      "295 -0.535510 -0.530843 -0.426490  0.229258 -0.031016 -0.050825  0.034726\n",
      "296 -0.339636 -0.243230 -0.281174  0.064289 -0.069664  0.000082 -0.000233\n",
      "297 -0.646433 -0.515434 -0.370378  0.249294 -0.043557 -0.002110 -0.000239\n",
      "298 -0.865078 -0.921790 -0.493755  0.127400  0.024342 -0.001823 -0.000163\n",
      "299 -0.895868 -0.767878 -0.530108  0.114224  0.026413 -0.000102 -0.000138\n",
      "\n",
      "[300 rows x 7 columns]\n"
     ]
    }
   ],
   "source": [
    "# fit_transform:\n",
    "# fit: вычисляет веса для столбцов\n",
    "# transform: умножает столбцы из X_scaled на эти веса,\n",
    "# т.е. преобразует исходные данные\n",
    "\n",
    "pca_res = pd.DataFrame(pca.fit_transform(X_scaled))\n",
    "print(pca_res) # массив"
   ]
  },
  {
   "cell_type": "markdown",
   "metadata": {},
   "source": [
    "Превратим результат в датафрейм и добавим названия столбцов для наглядности:"
   ]
  },
  {
   "cell_type": "code",
   "execution_count": 14,
   "metadata": {},
   "outputs": [
    {
     "data": {
      "text/html": [
       "<div>\n",
       "<style scoped>\n",
       "    .dataframe tbody tr th:only-of-type {\n",
       "        vertical-align: middle;\n",
       "    }\n",
       "\n",
       "    .dataframe tbody tr th {\n",
       "        vertical-align: top;\n",
       "    }\n",
       "\n",
       "    .dataframe thead th {\n",
       "        text-align: right;\n",
       "    }\n",
       "</style>\n",
       "<table border=\"1\" class=\"dataframe\">\n",
       "  <thead>\n",
       "    <tr style=\"text-align: right;\">\n",
       "      <th></th>\n",
       "      <th>PC1</th>\n",
       "      <th>PC2</th>\n",
       "      <th>PC3</th>\n",
       "      <th>PC4</th>\n",
       "      <th>PC5</th>\n",
       "      <th>PC6</th>\n",
       "      <th>PC7</th>\n",
       "    </tr>\n",
       "  </thead>\n",
       "  <tbody>\n",
       "    <tr>\n",
       "      <th>0</th>\n",
       "      <td>5.010343</td>\n",
       "      <td>2.679215</td>\n",
       "      <td>-0.039327</td>\n",
       "      <td>0.144106</td>\n",
       "      <td>-0.284015</td>\n",
       "      <td>0.002339</td>\n",
       "      <td>-0.000960</td>\n",
       "    </tr>\n",
       "    <tr>\n",
       "      <th>1</th>\n",
       "      <td>5.023755</td>\n",
       "      <td>2.529295</td>\n",
       "      <td>-0.097056</td>\n",
       "      <td>0.353950</td>\n",
       "      <td>-0.215269</td>\n",
       "      <td>-0.002952</td>\n",
       "      <td>-0.001022</td>\n",
       "    </tr>\n",
       "    <tr>\n",
       "      <th>2</th>\n",
       "      <td>4.805439</td>\n",
       "      <td>2.673700</td>\n",
       "      <td>-0.075475</td>\n",
       "      <td>-0.107798</td>\n",
       "      <td>0.035038</td>\n",
       "      <td>-0.005424</td>\n",
       "      <td>-0.000832</td>\n",
       "    </tr>\n",
       "    <tr>\n",
       "      <th>3</th>\n",
       "      <td>4.469543</td>\n",
       "      <td>2.285029</td>\n",
       "      <td>-0.120233</td>\n",
       "      <td>-0.054028</td>\n",
       "      <td>-0.174501</td>\n",
       "      <td>-0.005627</td>\n",
       "      <td>-0.000946</td>\n",
       "    </tr>\n",
       "    <tr>\n",
       "      <th>4</th>\n",
       "      <td>4.471893</td>\n",
       "      <td>2.159152</td>\n",
       "      <td>-0.000738</td>\n",
       "      <td>0.117166</td>\n",
       "      <td>-0.313027</td>\n",
       "      <td>-0.001689</td>\n",
       "      <td>-0.000968</td>\n",
       "    </tr>\n",
       "    <tr>\n",
       "      <th>...</th>\n",
       "      <td>...</td>\n",
       "      <td>...</td>\n",
       "      <td>...</td>\n",
       "      <td>...</td>\n",
       "      <td>...</td>\n",
       "      <td>...</td>\n",
       "      <td>...</td>\n",
       "    </tr>\n",
       "    <tr>\n",
       "      <th>295</th>\n",
       "      <td>-0.535510</td>\n",
       "      <td>-0.530843</td>\n",
       "      <td>-0.426490</td>\n",
       "      <td>0.229258</td>\n",
       "      <td>-0.031016</td>\n",
       "      <td>-0.050825</td>\n",
       "      <td>0.034726</td>\n",
       "    </tr>\n",
       "    <tr>\n",
       "      <th>296</th>\n",
       "      <td>-0.339636</td>\n",
       "      <td>-0.243230</td>\n",
       "      <td>-0.281174</td>\n",
       "      <td>0.064289</td>\n",
       "      <td>-0.069664</td>\n",
       "      <td>0.000082</td>\n",
       "      <td>-0.000233</td>\n",
       "    </tr>\n",
       "    <tr>\n",
       "      <th>297</th>\n",
       "      <td>-0.646433</td>\n",
       "      <td>-0.515434</td>\n",
       "      <td>-0.370378</td>\n",
       "      <td>0.249294</td>\n",
       "      <td>-0.043557</td>\n",
       "      <td>-0.002110</td>\n",
       "      <td>-0.000239</td>\n",
       "    </tr>\n",
       "    <tr>\n",
       "      <th>298</th>\n",
       "      <td>-0.865078</td>\n",
       "      <td>-0.921790</td>\n",
       "      <td>-0.493755</td>\n",
       "      <td>0.127400</td>\n",
       "      <td>0.024342</td>\n",
       "      <td>-0.001823</td>\n",
       "      <td>-0.000163</td>\n",
       "    </tr>\n",
       "    <tr>\n",
       "      <th>299</th>\n",
       "      <td>-0.895868</td>\n",
       "      <td>-0.767878</td>\n",
       "      <td>-0.530108</td>\n",
       "      <td>0.114224</td>\n",
       "      <td>0.026413</td>\n",
       "      <td>-0.000102</td>\n",
       "      <td>-0.000138</td>\n",
       "    </tr>\n",
       "  </tbody>\n",
       "</table>\n",
       "<p>300 rows × 7 columns</p>\n",
       "</div>"
      ],
      "text/plain": [
       "          PC1       PC2       PC3       PC4       PC5       PC6       PC7\n",
       "0    5.010343  2.679215 -0.039327  0.144106 -0.284015  0.002339 -0.000960\n",
       "1    5.023755  2.529295 -0.097056  0.353950 -0.215269 -0.002952 -0.001022\n",
       "2    4.805439  2.673700 -0.075475 -0.107798  0.035038 -0.005424 -0.000832\n",
       "3    4.469543  2.285029 -0.120233 -0.054028 -0.174501 -0.005627 -0.000946\n",
       "4    4.471893  2.159152 -0.000738  0.117166 -0.313027 -0.001689 -0.000968\n",
       "..        ...       ...       ...       ...       ...       ...       ...\n",
       "295 -0.535510 -0.530843 -0.426490  0.229258 -0.031016 -0.050825  0.034726\n",
       "296 -0.339636 -0.243230 -0.281174  0.064289 -0.069664  0.000082 -0.000233\n",
       "297 -0.646433 -0.515434 -0.370378  0.249294 -0.043557 -0.002110 -0.000239\n",
       "298 -0.865078 -0.921790 -0.493755  0.127400  0.024342 -0.001823 -0.000163\n",
       "299 -0.895868 -0.767878 -0.530108  0.114224  0.026413 -0.000102 -0.000138\n",
       "\n",
       "[300 rows x 7 columns]"
      ]
     },
     "execution_count": 14,
     "metadata": {},
     "output_type": "execute_result"
    }
   ],
   "source": [
    "pca_res.columns = pca_names\n",
    "pca_res"
   ]
  },
  {
   "cell_type": "markdown",
   "metadata": {},
   "source": [
    "**NB.** В `sklearn` более новой версии результаты могут отличаться. Мы обсуждали, что нет единственного решения при получении собственных векторов ковариационной матрицы, даже если мы добавим ограничение на длину векторов. Из-за этого веса исходных показателей в главных компонентах могут быть другими, а значит, и значения главных компонент тоже. Так, в примере на семинаре мы получили веса $(\\frac{5}{\\sqrt{26}}, \\frac{1}{\\sqrt{26}})^T$ для переменных в первой главной компоненте и $(-\\frac{1}{\\sqrt{26}}, \\frac{5}{\\sqrt{26}})^T$ – во второй. Если бы мы по-другому выбрали знаки при решении системы уравнений, мы бы получили веса $(-\\frac{5}{\\sqrt{26}}, -\\frac{1}{\\sqrt{26}})^T$ и $(\\frac{1}{\\sqrt{26}}, -\\frac{5}{\\sqrt{26}})^T$, и это тоже было бы корректно, так как полученные вектор-столбцы позволяют задать матрицу поворота со всеми необходимыми свойствами. Поскольку расхождения возникают только из-за знаков, различия будут только в интерпретации главных компонент. \n",
    "\n",
    "Мы получили датафрейм со значениями каждой главной компоненты для каждого наблюдения. Первая строка, например, это координаты первой пиццы в новом пространстве из семи главных компонент. А первый столбец – значения первой главной компоненты для каждой пиццы в данных, то есть значения некоторого интегрального индекса качества пиццы для каждой пиццы. Что это за индекс с содержательной точки зрения, попробуем проинтерпретировать чуть позже, а пока посмотрим на **информативность главных компонент**. \n",
    "\n",
    "Выведем **дисперсии** главных компонент – **собственные значения** ковариационной матрицы:"
   ]
  },
  {
   "cell_type": "code",
   "execution_count": 15,
   "metadata": {},
   "outputs": [
    {
     "name": "stdout",
     "output_type": "stream",
     "text": [
      "[4.19 2.3  0.42 0.1  0.03 0.   0.  ]\n"
     ]
    }
   ],
   "source": [
    "pca_var = pca.explained_variance_\n",
    "print(pca_var.round(2))"
   ]
  },
  {
   "cell_type": "markdown",
   "metadata": {},
   "source": [
    "Итак, дисперсия первой главной компоненты 4.19, второй – 2.3, третьей 0.42, далее дисперсии совсем маленькие. По **правилу Кайзера** следует извлечь две главные компоненты, так как только два собственных значения (две дисперсии) больше 1. Значения, которые мы получили в массиве выше – это главная диагональ матрицы $S$, которую мы рассматривали на лекции."
   ]
  },
  {
   "cell_type": "markdown",
   "metadata": {},
   "source": [
    "Визуализуем результаты – построим **график каменистой осыпи**, он же график согнутого локтя, он же график согнутого колена, он же график сломанной трости:"
   ]
  },
  {
   "cell_type": "code",
   "execution_count": 16,
   "metadata": {},
   "outputs": [
    {
     "data": {
      "image/png": "[encoded data removed]",
      "text/plain": [
       "<Figure size 432x288 with 1 Axes>"
      ]
     },
     "metadata": {
      "needs_background": "light"
     },
     "output_type": "display_data"
    }
   ],
   "source": [
    "# по оси x – число компонент от 1 до 7\n",
    "# по оси y – собственные значения (дисперсии)\n",
    "\n",
    "plt.plot(range(1, p + 1), pca_var, \"o-\");\n",
    "plt.title(\"Scree plot\");\n",
    "plt.xlabel(\"Number of components\");\n",
    "plt.ylabel(\"Eigenvalues (variances)\");"
   ]
  },
  {
   "cell_type": "markdown",
   "metadata": {},
   "source": [
    "Как и все графические способы, этот метод определения числа главных компонент не совсем однозначный. Обычно считается, что нужно извлечь столько главных компонент, сколько находятся до излома (колена/локтя) на графике. Здесь излом происходит на трех главных компонентах, формально до него две главные компоненты, включать ли третью или нет – уже на усмотрение исследователя. Можно согласовать результаты с другими методами определения числа главных компонент. \n",
    "\n",
    "Вычислим доли дисперсии исходных данных, которые объясняет каждая главная компонента (переведём в проценты и округлим):"
   ]
  },
  {
   "cell_type": "code",
   "execution_count": 17,
   "metadata": {},
   "outputs": [
    {
     "name": "stdout",
     "output_type": "stream",
     "text": [
      "[59.6  32.72  5.92  1.36  0.4   0.    0.  ]\n"
     ]
    }
   ],
   "source": [
    "pca_var_ratio = pca.explained_variance_ratio_\n",
    "print((pca_var_ratio * 100).round(2))"
   ]
  },
  {
   "cell_type": "markdown",
   "metadata": {},
   "source": [
    "Первая главная компонента объясняет 59.6% дисперсии исходных данных, вторая – 32.72% дисперсии исходных данных. В сумме эти две главные компоненты объясняют примерно 92% дисперсии, этого достаточно (более 80% на практике). Чтобы не считать совокупные проценты объясненной дисперсии самостоятельно, можно воспользоваться функцией `cumsum()` для массивов:"
   ]
  },
  {
   "cell_type": "code",
   "execution_count": 18,
   "metadata": {},
   "outputs": [
    {
     "data": {
      "text/plain": [
       "array([ 59.6 ,  92.32,  98.24,  99.6 , 100.  , 100.  , 100.  ])"
      ]
     },
     "execution_count": 18,
     "metadata": {},
     "output_type": "execute_result"
    }
   ],
   "source": [
    "# cumsum() от cumulative sum\n",
    "# накопленные значения\n",
    "\n",
    "np.cumsum((pca_var_ratio * 100).round(2))"
   ]
  },
  {
   "cell_type": "markdown",
   "metadata": {},
   "source": [
    "Теперь точно видно, что две первые главные компоненты объясняют 92.32% дисперсии исходных данных, три компоненты – уже 98.24%, пять компонент – уже 100%, дальше две компоненты уже не дают прироста информативности."
   ]
  },
  {
   "cell_type": "markdown",
   "metadata": {},
   "source": [
    "Выведем нагрузки – веса, те значения, которые являются координатами единичных собственных векторов ковариационной матрицы:"
   ]
  },
  {
   "cell_type": "code",
   "execution_count": 19,
   "metadata": {},
   "outputs": [
    {
     "name": "stdout",
     "output_type": "stream",
     "text": [
      "[[ 6.47093729e-02  3.78760904e-01  4.46665915e-01  4.71889526e-01\n",
      "   4.35702887e-01 -4.24913712e-01  2.44487304e-01]\n",
      " [-6.28275866e-01 -2.69706650e-01  2.34379085e-01 -1.10990417e-01\n",
      "   2.01661652e-01  3.20312078e-01  5.67457559e-01]\n",
      " [-4.21668945e-01  7.46027442e-01 -1.99308714e-01  5.62726863e-02\n",
      "  -4.55168874e-01  5.22365058e-02  1.13315588e-01]\n",
      " [-2.20721584e-01 -1.05931982e-02 -5.07042158e-01  5.52398549e-01\n",
      "   4.46276890e-01  3.34339481e-01 -2.79263154e-01]\n",
      " [-6.47029345e-03 -3.87982788e-01  1.73367634e-01  6.70885701e-01\n",
      "  -6.02614079e-01  7.43689883e-03  7.80031747e-02]\n",
      " [ 4.46449902e-01 -1.71520299e-04 -5.25402868e-01  5.88609281e-02\n",
      "   3.13098518e-03 -5.08853524e-04  7.21913853e-01]\n",
      " [ 4.18569035e-01  2.76764643e-01  3.77671525e-01  5.60214003e-02\n",
      "  -5.24323817e-04  7.76067911e-01  1.20598098e-02]]\n"
     ]
    }
   ],
   "source": [
    "# строка = собственный вектор для одной компоненты\n",
    "print(pca.components_)"
   ]
  },
  {
   "cell_type": "markdown",
   "metadata": {},
   "source": [
    "Для наглядности преобразуем массив выше в датафрейм:"
   ]
  },
  {
   "cell_type": "code",
   "execution_count": 20,
   "metadata": {},
   "outputs": [
    {
     "data": {
      "text/html": [
       "<div>\n",
       "<style scoped>\n",
       "    .dataframe tbody tr th:only-of-type {\n",
       "        vertical-align: middle;\n",
       "    }\n",
       "\n",
       "    .dataframe tbody tr th {\n",
       "        vertical-align: top;\n",
       "    }\n",
       "\n",
       "    .dataframe thead th {\n",
       "        text-align: right;\n",
       "    }\n",
       "</style>\n",
       "<table border=\"1\" class=\"dataframe\">\n",
       "  <thead>\n",
       "    <tr style=\"text-align: right;\">\n",
       "      <th></th>\n",
       "      <th>0</th>\n",
       "      <th>1</th>\n",
       "      <th>2</th>\n",
       "      <th>3</th>\n",
       "      <th>4</th>\n",
       "      <th>5</th>\n",
       "      <th>6</th>\n",
       "    </tr>\n",
       "  </thead>\n",
       "  <tbody>\n",
       "    <tr>\n",
       "      <th>0</th>\n",
       "      <td>0.064709</td>\n",
       "      <td>0.378761</td>\n",
       "      <td>0.446666</td>\n",
       "      <td>0.471890</td>\n",
       "      <td>0.435703</td>\n",
       "      <td>-0.424914</td>\n",
       "      <td>0.244487</td>\n",
       "    </tr>\n",
       "    <tr>\n",
       "      <th>1</th>\n",
       "      <td>-0.628276</td>\n",
       "      <td>-0.269707</td>\n",
       "      <td>0.234379</td>\n",
       "      <td>-0.110990</td>\n",
       "      <td>0.201662</td>\n",
       "      <td>0.320312</td>\n",
       "      <td>0.567458</td>\n",
       "    </tr>\n",
       "    <tr>\n",
       "      <th>2</th>\n",
       "      <td>-0.421669</td>\n",
       "      <td>0.746027</td>\n",
       "      <td>-0.199309</td>\n",
       "      <td>0.056273</td>\n",
       "      <td>-0.455169</td>\n",
       "      <td>0.052237</td>\n",
       "      <td>0.113316</td>\n",
       "    </tr>\n",
       "    <tr>\n",
       "      <th>3</th>\n",
       "      <td>-0.220722</td>\n",
       "      <td>-0.010593</td>\n",
       "      <td>-0.507042</td>\n",
       "      <td>0.552399</td>\n",
       "      <td>0.446277</td>\n",
       "      <td>0.334339</td>\n",
       "      <td>-0.279263</td>\n",
       "    </tr>\n",
       "    <tr>\n",
       "      <th>4</th>\n",
       "      <td>-0.006470</td>\n",
       "      <td>-0.387983</td>\n",
       "      <td>0.173368</td>\n",
       "      <td>0.670886</td>\n",
       "      <td>-0.602614</td>\n",
       "      <td>0.007437</td>\n",
       "      <td>0.078003</td>\n",
       "    </tr>\n",
       "    <tr>\n",
       "      <th>5</th>\n",
       "      <td>0.446450</td>\n",
       "      <td>-0.000172</td>\n",
       "      <td>-0.525403</td>\n",
       "      <td>0.058861</td>\n",
       "      <td>0.003131</td>\n",
       "      <td>-0.000509</td>\n",
       "      <td>0.721914</td>\n",
       "    </tr>\n",
       "    <tr>\n",
       "      <th>6</th>\n",
       "      <td>0.418569</td>\n",
       "      <td>0.276765</td>\n",
       "      <td>0.377672</td>\n",
       "      <td>0.056021</td>\n",
       "      <td>-0.000524</td>\n",
       "      <td>0.776068</td>\n",
       "      <td>0.012060</td>\n",
       "    </tr>\n",
       "  </tbody>\n",
       "</table>\n",
       "</div>"
      ],
      "text/plain": [
       "          0         1         2         3         4         5         6\n",
       "0  0.064709  0.378761  0.446666  0.471890  0.435703 -0.424914  0.244487\n",
       "1 -0.628276 -0.269707  0.234379 -0.110990  0.201662  0.320312  0.567458\n",
       "2 -0.421669  0.746027 -0.199309  0.056273 -0.455169  0.052237  0.113316\n",
       "3 -0.220722 -0.010593 -0.507042  0.552399  0.446277  0.334339 -0.279263\n",
       "4 -0.006470 -0.387983  0.173368  0.670886 -0.602614  0.007437  0.078003\n",
       "5  0.446450 -0.000172 -0.525403  0.058861  0.003131 -0.000509  0.721914\n",
       "6  0.418569  0.276765  0.377672  0.056021 -0.000524  0.776068  0.012060"
      ]
     },
     "execution_count": 20,
     "metadata": {},
     "output_type": "execute_result"
    }
   ],
   "source": [
    "pd.DataFrame(pca.components_)"
   ]
  },
  {
   "cell_type": "markdown",
   "metadata": {},
   "source": [
    "Обычно нагрузки для каждой компоненты записывают по столбцам, поэтому транспонируем таблицу выше и закрепим за строками и столбцами понятные названия:"
   ]
  },
  {
   "cell_type": "code",
   "execution_count": 21,
   "metadata": {},
   "outputs": [
    {
     "data": {
      "text/html": [
       "<div>\n",
       "<style scoped>\n",
       "    .dataframe tbody tr th:only-of-type {\n",
       "        vertical-align: middle;\n",
       "    }\n",
       "\n",
       "    .dataframe tbody tr th {\n",
       "        vertical-align: top;\n",
       "    }\n",
       "\n",
       "    .dataframe thead th {\n",
       "        text-align: right;\n",
       "    }\n",
       "</style>\n",
       "<table border=\"1\" class=\"dataframe\">\n",
       "  <thead>\n",
       "    <tr style=\"text-align: right;\">\n",
       "      <th></th>\n",
       "      <th>PC1</th>\n",
       "      <th>PC2</th>\n",
       "      <th>PC3</th>\n",
       "      <th>PC4</th>\n",
       "      <th>PC5</th>\n",
       "      <th>PC6</th>\n",
       "      <th>PC7</th>\n",
       "    </tr>\n",
       "  </thead>\n",
       "  <tbody>\n",
       "    <tr>\n",
       "      <th>mois</th>\n",
       "      <td>0.064709</td>\n",
       "      <td>-0.628276</td>\n",
       "      <td>-0.421669</td>\n",
       "      <td>-0.220722</td>\n",
       "      <td>-0.006470</td>\n",
       "      <td>0.446450</td>\n",
       "      <td>0.418569</td>\n",
       "    </tr>\n",
       "    <tr>\n",
       "      <th>prot</th>\n",
       "      <td>0.378761</td>\n",
       "      <td>-0.269707</td>\n",
       "      <td>0.746027</td>\n",
       "      <td>-0.010593</td>\n",
       "      <td>-0.387983</td>\n",
       "      <td>-0.000172</td>\n",
       "      <td>0.276765</td>\n",
       "    </tr>\n",
       "    <tr>\n",
       "      <th>fat</th>\n",
       "      <td>0.446666</td>\n",
       "      <td>0.234379</td>\n",
       "      <td>-0.199309</td>\n",
       "      <td>-0.507042</td>\n",
       "      <td>0.173368</td>\n",
       "      <td>-0.525403</td>\n",
       "      <td>0.377672</td>\n",
       "    </tr>\n",
       "    <tr>\n",
       "      <th>ash</th>\n",
       "      <td>0.471890</td>\n",
       "      <td>-0.110990</td>\n",
       "      <td>0.056273</td>\n",
       "      <td>0.552399</td>\n",
       "      <td>0.670886</td>\n",
       "      <td>0.058861</td>\n",
       "      <td>0.056021</td>\n",
       "    </tr>\n",
       "    <tr>\n",
       "      <th>sodium</th>\n",
       "      <td>0.435703</td>\n",
       "      <td>0.201662</td>\n",
       "      <td>-0.455169</td>\n",
       "      <td>0.446277</td>\n",
       "      <td>-0.602614</td>\n",
       "      <td>0.003131</td>\n",
       "      <td>-0.000524</td>\n",
       "    </tr>\n",
       "    <tr>\n",
       "      <th>carb</th>\n",
       "      <td>-0.424914</td>\n",
       "      <td>0.320312</td>\n",
       "      <td>0.052237</td>\n",
       "      <td>0.334339</td>\n",
       "      <td>0.007437</td>\n",
       "      <td>-0.000509</td>\n",
       "      <td>0.776068</td>\n",
       "    </tr>\n",
       "    <tr>\n",
       "      <th>cal</th>\n",
       "      <td>0.244487</td>\n",
       "      <td>0.567458</td>\n",
       "      <td>0.113316</td>\n",
       "      <td>-0.279263</td>\n",
       "      <td>0.078003</td>\n",
       "      <td>0.721914</td>\n",
       "      <td>0.012060</td>\n",
       "    </tr>\n",
       "  </tbody>\n",
       "</table>\n",
       "</div>"
      ],
      "text/plain": [
       "             PC1       PC2       PC3       PC4       PC5       PC6       PC7\n",
       "mois    0.064709 -0.628276 -0.421669 -0.220722 -0.006470  0.446450  0.418569\n",
       "prot    0.378761 -0.269707  0.746027 -0.010593 -0.387983 -0.000172  0.276765\n",
       "fat     0.446666  0.234379 -0.199309 -0.507042  0.173368 -0.525403  0.377672\n",
       "ash     0.471890 -0.110990  0.056273  0.552399  0.670886  0.058861  0.056021\n",
       "sodium  0.435703  0.201662 -0.455169  0.446277 -0.602614  0.003131 -0.000524\n",
       "carb   -0.424914  0.320312  0.052237  0.334339  0.007437 -0.000509  0.776068\n",
       "cal     0.244487  0.567458  0.113316 -0.279263  0.078003  0.721914  0.012060"
      ]
     },
     "execution_count": 21,
     "metadata": {},
     "output_type": "execute_result"
    }
   ],
   "source": [
    "rotation_matrix = pd.DataFrame(pca.components_).T\n",
    "rotation_matrix.columns = pca_names\n",
    "rotation_matrix.index = X.columns\n",
    "rotation_matrix"
   ]
  },
  {
   "cell_type": "markdown",
   "metadata": {},
   "source": [
    "Итак, здесь `rotation_matrix` – это матрица поворота, она же матрица перехода $R$, которую мы рассматривали на занятии. Проверим, что на столбцы выше можно смотреть как на вектор-столбцы единичной длины:"
   ]
  },
  {
   "cell_type": "code",
   "execution_count": 22,
   "metadata": {},
   "outputs": [
    {
     "name": "stdout",
     "output_type": "stream",
     "text": [
      "0.9999999999999996\n",
      "0.9999999999999999\n"
     ]
    }
   ],
   "source": [
    "# считаем, что 1\n",
    "print((rotation_matrix[\"PC1\"] ** 2).sum()) \n",
    "print((rotation_matrix[\"PC2\"] ** 2).sum())"
   ]
  },
  {
   "cell_type": "markdown",
   "metadata": {},
   "source": [
    "В завершении «технического» описания полученных результатов, проверим, что умножение исходного массива `X_scaled` на эту матрицу даст те же результаты, которые мы получили в `pca_res`, то есть значения каждой главной компоненты для каждого наблюдения:"
   ]
  },
  {
   "cell_type": "code",
   "execution_count": 23,
   "metadata": {},
   "outputs": [
    {
     "data": {
      "text/html": [
       "<div>\n",
       "<style scoped>\n",
       "    .dataframe tbody tr th:only-of-type {\n",
       "        vertical-align: middle;\n",
       "    }\n",
       "\n",
       "    .dataframe tbody tr th {\n",
       "        vertical-align: top;\n",
       "    }\n",
       "\n",
       "    .dataframe thead th {\n",
       "        text-align: right;\n",
       "    }\n",
       "</style>\n",
       "<table border=\"1\" class=\"dataframe\">\n",
       "  <thead>\n",
       "    <tr style=\"text-align: right;\">\n",
       "      <th></th>\n",
       "      <th>0</th>\n",
       "      <th>1</th>\n",
       "      <th>2</th>\n",
       "      <th>3</th>\n",
       "      <th>4</th>\n",
       "      <th>5</th>\n",
       "      <th>6</th>\n",
       "    </tr>\n",
       "  </thead>\n",
       "  <tbody>\n",
       "    <tr>\n",
       "      <th>0</th>\n",
       "      <td>5.010343</td>\n",
       "      <td>2.679215</td>\n",
       "      <td>-0.039327</td>\n",
       "      <td>0.144106</td>\n",
       "      <td>-0.284015</td>\n",
       "      <td>0.002339</td>\n",
       "      <td>-0.000960</td>\n",
       "    </tr>\n",
       "    <tr>\n",
       "      <th>1</th>\n",
       "      <td>5.023755</td>\n",
       "      <td>2.529295</td>\n",
       "      <td>-0.097056</td>\n",
       "      <td>0.353950</td>\n",
       "      <td>-0.215269</td>\n",
       "      <td>-0.002952</td>\n",
       "      <td>-0.001022</td>\n",
       "    </tr>\n",
       "    <tr>\n",
       "      <th>2</th>\n",
       "      <td>4.805439</td>\n",
       "      <td>2.673700</td>\n",
       "      <td>-0.075475</td>\n",
       "      <td>-0.107798</td>\n",
       "      <td>0.035038</td>\n",
       "      <td>-0.005424</td>\n",
       "      <td>-0.000832</td>\n",
       "    </tr>\n",
       "    <tr>\n",
       "      <th>3</th>\n",
       "      <td>4.469543</td>\n",
       "      <td>2.285029</td>\n",
       "      <td>-0.120233</td>\n",
       "      <td>-0.054028</td>\n",
       "      <td>-0.174501</td>\n",
       "      <td>-0.005627</td>\n",
       "      <td>-0.000946</td>\n",
       "    </tr>\n",
       "    <tr>\n",
       "      <th>4</th>\n",
       "      <td>4.471893</td>\n",
       "      <td>2.159152</td>\n",
       "      <td>-0.000738</td>\n",
       "      <td>0.117166</td>\n",
       "      <td>-0.313027</td>\n",
       "      <td>-0.001689</td>\n",
       "      <td>-0.000968</td>\n",
       "    </tr>\n",
       "    <tr>\n",
       "      <th>...</th>\n",
       "      <td>...</td>\n",
       "      <td>...</td>\n",
       "      <td>...</td>\n",
       "      <td>...</td>\n",
       "      <td>...</td>\n",
       "      <td>...</td>\n",
       "      <td>...</td>\n",
       "    </tr>\n",
       "    <tr>\n",
       "      <th>295</th>\n",
       "      <td>-0.535510</td>\n",
       "      <td>-0.530843</td>\n",
       "      <td>-0.426490</td>\n",
       "      <td>0.229258</td>\n",
       "      <td>-0.031016</td>\n",
       "      <td>-0.050825</td>\n",
       "      <td>0.034726</td>\n",
       "    </tr>\n",
       "    <tr>\n",
       "      <th>296</th>\n",
       "      <td>-0.339636</td>\n",
       "      <td>-0.243230</td>\n",
       "      <td>-0.281174</td>\n",
       "      <td>0.064289</td>\n",
       "      <td>-0.069664</td>\n",
       "      <td>0.000082</td>\n",
       "      <td>-0.000233</td>\n",
       "    </tr>\n",
       "    <tr>\n",
       "      <th>297</th>\n",
       "      <td>-0.646433</td>\n",
       "      <td>-0.515434</td>\n",
       "      <td>-0.370378</td>\n",
       "      <td>0.249294</td>\n",
       "      <td>-0.043557</td>\n",
       "      <td>-0.002110</td>\n",
       "      <td>-0.000239</td>\n",
       "    </tr>\n",
       "    <tr>\n",
       "      <th>298</th>\n",
       "      <td>-0.865078</td>\n",
       "      <td>-0.921790</td>\n",
       "      <td>-0.493755</td>\n",
       "      <td>0.127400</td>\n",
       "      <td>0.024342</td>\n",
       "      <td>-0.001823</td>\n",
       "      <td>-0.000163</td>\n",
       "    </tr>\n",
       "    <tr>\n",
       "      <th>299</th>\n",
       "      <td>-0.895868</td>\n",
       "      <td>-0.767878</td>\n",
       "      <td>-0.530108</td>\n",
       "      <td>0.114224</td>\n",
       "      <td>0.026413</td>\n",
       "      <td>-0.000102</td>\n",
       "      <td>-0.000138</td>\n",
       "    </tr>\n",
       "  </tbody>\n",
       "</table>\n",
       "<p>300 rows × 7 columns</p>\n",
       "</div>"
      ],
      "text/plain": [
       "            0         1         2         3         4         5         6\n",
       "0    5.010343  2.679215 -0.039327  0.144106 -0.284015  0.002339 -0.000960\n",
       "1    5.023755  2.529295 -0.097056  0.353950 -0.215269 -0.002952 -0.001022\n",
       "2    4.805439  2.673700 -0.075475 -0.107798  0.035038 -0.005424 -0.000832\n",
       "3    4.469543  2.285029 -0.120233 -0.054028 -0.174501 -0.005627 -0.000946\n",
       "4    4.471893  2.159152 -0.000738  0.117166 -0.313027 -0.001689 -0.000968\n",
       "..        ...       ...       ...       ...       ...       ...       ...\n",
       "295 -0.535510 -0.530843 -0.426490  0.229258 -0.031016 -0.050825  0.034726\n",
       "296 -0.339636 -0.243230 -0.281174  0.064289 -0.069664  0.000082 -0.000233\n",
       "297 -0.646433 -0.515434 -0.370378  0.249294 -0.043557 -0.002110 -0.000239\n",
       "298 -0.865078 -0.921790 -0.493755  0.127400  0.024342 -0.001823 -0.000163\n",
       "299 -0.895868 -0.767878 -0.530108  0.114224  0.026413 -0.000102 -0.000138\n",
       "\n",
       "[300 rows x 7 columns]"
      ]
     },
     "execution_count": 23,
     "metadata": {},
     "output_type": "execute_result"
    }
   ],
   "source": [
    "# rotation_matrix: исходные x по строкам\n",
    "# X_scaled: исходные х по столбцам\n",
    "\n",
    "pd.DataFrame(np.dot(X_scaled, rotation_matrix))"
   ]
  },
  {
   "cell_type": "markdown",
   "metadata": {},
   "source": [
    "Сравним коэффициенты корреляции между исходными переменными и итоговыми главными компонентами:"
   ]
  },
  {
   "cell_type": "code",
   "execution_count": 24,
   "metadata": {},
   "outputs": [
    {
     "name": "stdout",
     "output_type": "stream",
     "text": [
      "         mois   prot    fat    ash  sodium   carb    cal\n",
      "mois    1.000  0.360 -0.171  0.266  -0.102 -0.592 -0.764\n",
      "prot    0.360  1.000  0.498  0.824   0.429 -0.854  0.070\n",
      "fat    -0.171  0.498  1.000  0.792   0.933 -0.640  0.765\n",
      "ash     0.266  0.824  0.792  1.000   0.808 -0.899  0.326\n",
      "sodium -0.102  0.429  0.933  0.808   1.000 -0.620  0.672\n",
      "carb   -0.592 -0.854 -0.640 -0.899  -0.620  1.000 -0.023\n",
      "cal    -0.764  0.070  0.765  0.326   0.672 -0.023  1.000\n",
      "     PC1  PC2  PC3  PC4  PC5  PC6  PC7\n",
      "PC1  1.0  0.0 -0.0  0.0 -0.0  0.0  0.0\n",
      "PC2  0.0  1.0 -0.0  0.0  0.0 -0.0 -0.0\n",
      "PC3 -0.0 -0.0  1.0 -0.0  0.0  0.0 -0.0\n",
      "PC4  0.0  0.0 -0.0  1.0 -0.0  0.0  0.0\n",
      "PC5 -0.0  0.0  0.0 -0.0  1.0 -0.0 -0.0\n",
      "PC6  0.0 -0.0  0.0  0.0 -0.0  1.0  0.0\n",
      "PC7  0.0 -0.0 -0.0  0.0 -0.0  0.0  1.0\n"
     ]
    }
   ],
   "source": [
    "# было: скоррелированные переменные\n",
    "print(X.corr().round(3)) \n",
    "\n",
    "# стало: нескоррелированные комноненты\n",
    "print(pca_res.corr().round(3)) "
   ]
  },
  {
   "cell_type": "markdown",
   "metadata": {},
   "source": [
    "Вернемся к нагрузкам – весам исходных переменных в каждой главной компоненте:"
   ]
  },
  {
   "cell_type": "code",
   "execution_count": 25,
   "metadata": {},
   "outputs": [
    {
     "data": {
      "text/html": [
       "<div>\n",
       "<style scoped>\n",
       "    .dataframe tbody tr th:only-of-type {\n",
       "        vertical-align: middle;\n",
       "    }\n",
       "\n",
       "    .dataframe tbody tr th {\n",
       "        vertical-align: top;\n",
       "    }\n",
       "\n",
       "    .dataframe thead th {\n",
       "        text-align: right;\n",
       "    }\n",
       "</style>\n",
       "<table border=\"1\" class=\"dataframe\">\n",
       "  <thead>\n",
       "    <tr style=\"text-align: right;\">\n",
       "      <th></th>\n",
       "      <th>PC1</th>\n",
       "      <th>PC2</th>\n",
       "      <th>PC3</th>\n",
       "      <th>PC4</th>\n",
       "      <th>PC5</th>\n",
       "      <th>PC6</th>\n",
       "      <th>PC7</th>\n",
       "    </tr>\n",
       "  </thead>\n",
       "  <tbody>\n",
       "    <tr>\n",
       "      <th>mois</th>\n",
       "      <td>0.064709</td>\n",
       "      <td>-0.628276</td>\n",
       "      <td>-0.421669</td>\n",
       "      <td>-0.220722</td>\n",
       "      <td>-0.006470</td>\n",
       "      <td>0.446450</td>\n",
       "      <td>0.418569</td>\n",
       "    </tr>\n",
       "    <tr>\n",
       "      <th>prot</th>\n",
       "      <td>0.378761</td>\n",
       "      <td>-0.269707</td>\n",
       "      <td>0.746027</td>\n",
       "      <td>-0.010593</td>\n",
       "      <td>-0.387983</td>\n",
       "      <td>-0.000172</td>\n",
       "      <td>0.276765</td>\n",
       "    </tr>\n",
       "    <tr>\n",
       "      <th>fat</th>\n",
       "      <td>0.446666</td>\n",
       "      <td>0.234379</td>\n",
       "      <td>-0.199309</td>\n",
       "      <td>-0.507042</td>\n",
       "      <td>0.173368</td>\n",
       "      <td>-0.525403</td>\n",
       "      <td>0.377672</td>\n",
       "    </tr>\n",
       "    <tr>\n",
       "      <th>ash</th>\n",
       "      <td>0.471890</td>\n",
       "      <td>-0.110990</td>\n",
       "      <td>0.056273</td>\n",
       "      <td>0.552399</td>\n",
       "      <td>0.670886</td>\n",
       "      <td>0.058861</td>\n",
       "      <td>0.056021</td>\n",
       "    </tr>\n",
       "    <tr>\n",
       "      <th>sodium</th>\n",
       "      <td>0.435703</td>\n",
       "      <td>0.201662</td>\n",
       "      <td>-0.455169</td>\n",
       "      <td>0.446277</td>\n",
       "      <td>-0.602614</td>\n",
       "      <td>0.003131</td>\n",
       "      <td>-0.000524</td>\n",
       "    </tr>\n",
       "    <tr>\n",
       "      <th>carb</th>\n",
       "      <td>-0.424914</td>\n",
       "      <td>0.320312</td>\n",
       "      <td>0.052237</td>\n",
       "      <td>0.334339</td>\n",
       "      <td>0.007437</td>\n",
       "      <td>-0.000509</td>\n",
       "      <td>0.776068</td>\n",
       "    </tr>\n",
       "    <tr>\n",
       "      <th>cal</th>\n",
       "      <td>0.244487</td>\n",
       "      <td>0.567458</td>\n",
       "      <td>0.113316</td>\n",
       "      <td>-0.279263</td>\n",
       "      <td>0.078003</td>\n",
       "      <td>0.721914</td>\n",
       "      <td>0.012060</td>\n",
       "    </tr>\n",
       "  </tbody>\n",
       "</table>\n",
       "</div>"
      ],
      "text/plain": [
       "             PC1       PC2       PC3       PC4       PC5       PC6       PC7\n",
       "mois    0.064709 -0.628276 -0.421669 -0.220722 -0.006470  0.446450  0.418569\n",
       "prot    0.378761 -0.269707  0.746027 -0.010593 -0.387983 -0.000172  0.276765\n",
       "fat     0.446666  0.234379 -0.199309 -0.507042  0.173368 -0.525403  0.377672\n",
       "ash     0.471890 -0.110990  0.056273  0.552399  0.670886  0.058861  0.056021\n",
       "sodium  0.435703  0.201662 -0.455169  0.446277 -0.602614  0.003131 -0.000524\n",
       "carb   -0.424914  0.320312  0.052237  0.334339  0.007437 -0.000509  0.776068\n",
       "cal     0.244487  0.567458  0.113316 -0.279263  0.078003  0.721914  0.012060"
      ]
     },
     "execution_count": 25,
     "metadata": {},
     "output_type": "execute_result"
    }
   ],
   "source": [
    "rotation_matrix"
   ]
  },
  {
   "cell_type": "markdown",
   "metadata": {},
   "source": [
    "В этой матрице хранятся **факторные нагрузки**, веса исходных показателей в каждой главной компоненте. Так, например, мы можем записать уравнение для первой главной компоненты:\n",
    "\n",
    "$$\n",
    "\\text{PC}_1 = 0.06 \\times \\text{mois} + 0.38 \\times \\text{prot} + 0.45 \\times \\text{fat} + 0.47 \\times \\text{ash} + 0.44 \\times \\text{sodium} - 0.42 \\times \\text{carb} + 0.24 \\times \\text{cal}\n",
    "$$\n",
    "\n",
    "Используя это уравнение и исходные данные, мы сможем для любой пиццы вычислить значение $\\text{PC}_1$ как некоторого интегрального индекса состава пиццы, подставив вместо $\\text{mois}$, $\\text{prot}$ и остальных переменных конкретные числа. \n",
    "\n",
    "Формально, эти веса – коэффициенты корреляции между главной компонентой и исходными переменными. Поэтому, базируясь на этих значениях, мы можем попытаться содержательно проинтерпретировать, что представляют собой полученные компоненты.\n",
    "\n",
    "Как мы уже определили, извлечь нужно первые две компоненты, их будет достаточно, чтобы описать состав пицц без особой потери информации. Давайте подумаем, что означает первая главная компонента. Она отрицательно скоррелирована с содержанием углеводов, слабо связана с калорийностью и содержанием воды, при этом наибольшие веса в этой главной компоненте составляют минеральные вещества, жиры и белки. С явной интерпретацией сложновато, но будем считать, что индекс «сбалансированности состава пиццы», раз высокоуглеводные калорийные пиццы по этому индексу будут получать наименьшие значения (судя по весам). \n",
    "\n",
    "Вторая главная компонента – явно отвечает за калорийность и сытность пиццы, самый большой положительный вес у калорийности, веса у содержания углеводов и жиров тоже немаленькие. При этом самый большой по модулю вес – отрицательный, он относится к содержанию воды в пицце. Тоже логично, более калорийные пиццы обычно более сухие. Сыр, овощи, грибы дают влагу, а вот колбасы и прочие копченые мясные продукты – нет. Итак, вторая главная компонента – «индекс сытности пиццы».\n",
    "\n",
    "**NB.** В более новой версии `sklearn` веса в `rotation_matrix` местами получаются другие – с противоположными знаками. Это нормально, просто интерпретацию главных компонент выше нужно «перевернуть». Если здесь мы согласились на «индекс сбалансированности состава пиццы» и «индекс сытности пиццы», при противоположных весах у второй главной компоненты мы просто скажем, что вторая главная компонента – индекс, противоположный «сытности», то есть индекс «легкости» пиццы, показывающий, насколько она пригодна для здорового питания."
   ]
  },
  {
   "cell_type": "markdown",
   "metadata": {},
   "source": [
    "### Часть 2: работаем в пространстве сниженной размерности"
   ]
  },
  {
   "cell_type": "markdown",
   "metadata": {},
   "source": [
    "Добавим в исходный датафрейм `pizza` с нестандартизованными (и более понятными) данными индексы, которые мы получили из первых двух главных компонент:"
   ]
  },
  {
   "cell_type": "code",
   "execution_count": 26,
   "metadata": {},
   "outputs": [],
   "source": [
    "pizza[\"Index1\"] = pca_res[\"PC1\"]\n",
    "pizza[\"Index2\"] = pca_res[\"PC2\"]"
   ]
  },
  {
   "cell_type": "markdown",
   "metadata": {},
   "source": [
    "Выведем описательные статистики по ним:"
   ]
  },
  {
   "cell_type": "code",
   "execution_count": 27,
   "metadata": {},
   "outputs": [
    {
     "data": {
      "text/html": [
       "<div>\n",
       "<style scoped>\n",
       "    .dataframe tbody tr th:only-of-type {\n",
       "        vertical-align: middle;\n",
       "    }\n",
       "\n",
       "    .dataframe tbody tr th {\n",
       "        vertical-align: top;\n",
       "    }\n",
       "\n",
       "    .dataframe thead th {\n",
       "        text-align: right;\n",
       "    }\n",
       "</style>\n",
       "<table border=\"1\" class=\"dataframe\">\n",
       "  <thead>\n",
       "    <tr style=\"text-align: right;\">\n",
       "      <th></th>\n",
       "      <th>Index1</th>\n",
       "      <th>Index2</th>\n",
       "    </tr>\n",
       "  </thead>\n",
       "  <tbody>\n",
       "    <tr>\n",
       "      <th>count</th>\n",
       "      <td>300.00</td>\n",
       "      <td>300.00</td>\n",
       "    </tr>\n",
       "    <tr>\n",
       "      <th>mean</th>\n",
       "      <td>-0.00</td>\n",
       "      <td>0.00</td>\n",
       "    </tr>\n",
       "    <tr>\n",
       "      <th>std</th>\n",
       "      <td>2.05</td>\n",
       "      <td>1.52</td>\n",
       "    </tr>\n",
       "    <tr>\n",
       "      <th>min</th>\n",
       "      <td>-2.65</td>\n",
       "      <td>-2.68</td>\n",
       "    </tr>\n",
       "    <tr>\n",
       "      <th>25%</th>\n",
       "      <td>-1.70</td>\n",
       "      <td>-1.45</td>\n",
       "    </tr>\n",
       "    <tr>\n",
       "      <th>50%</th>\n",
       "      <td>-0.95</td>\n",
       "      <td>-0.32</td>\n",
       "    </tr>\n",
       "    <tr>\n",
       "      <th>75%</th>\n",
       "      <td>1.42</td>\n",
       "      <td>1.42</td>\n",
       "    </tr>\n",
       "    <tr>\n",
       "      <th>max</th>\n",
       "      <td>5.02</td>\n",
       "      <td>2.97</td>\n",
       "    </tr>\n",
       "  </tbody>\n",
       "</table>\n",
       "</div>"
      ],
      "text/plain": [
       "       Index1  Index2\n",
       "count  300.00  300.00\n",
       "mean    -0.00    0.00\n",
       "std      2.05    1.52\n",
       "min     -2.65   -2.68\n",
       "25%     -1.70   -1.45\n",
       "50%     -0.95   -0.32\n",
       "75%      1.42    1.42\n",
       "max      5.02    2.97"
      ]
     },
     "execution_count": 27,
     "metadata": {},
     "output_type": "execute_result"
    }
   ],
   "source": [
    "pizza[[\"Index1\", \"Index2\"]].describe().round(2)"
   ]
  },
  {
   "cell_type": "markdown",
   "metadata": {},
   "source": [
    "Так как при получении значений главных компонент мы использовали стандартизованный набор данных и веса с ограничением на их сумму (сумма квадратов весов равна 1), здесь мы получили набор значений в диапазоне от $-3$ до $3$ (но выбросы никто не отменял)."
   ]
  },
  {
   "cell_type": "markdown",
   "metadata": {},
   "source": [
    "Сгруппируем пиццы по бренду и посмотрим, чем они отличаются:"
   ]
  },
  {
   "cell_type": "code",
   "execution_count": 29,
   "metadata": {},
   "outputs": [
    {
     "data": {
      "text/plain": [
       "brand\n",
       "A    4.627700\n",
       "D    1.655368\n",
       "B    1.549897\n",
       "C    1.077085\n",
       "J   -0.689422\n",
       "I   -1.134077\n",
       "F   -1.655766\n",
       "E   -1.711989\n",
       "G   -1.753188\n",
       "H   -1.845524\n",
       "Name: Index1, dtype: float64"
      ]
     },
     "execution_count": 29,
     "metadata": {},
     "output_type": "execute_result"
    }
   ],
   "source": [
    "# группировка по brand\n",
    "# выбираем из результата столбец Index1\n",
    "# считаем среднее, сортируем средние по убыванию\n",
    "\n",
    "pizza.groupby(\"brand\")[\"Index1\"].mean().sort_values(ascending = False)"
   ]
  },
  {
   "cell_type": "code",
   "execution_count": 30,
   "metadata": {},
   "outputs": [
    {
     "data": {
      "text/plain": [
       "brand\n",
       "A    2.372000\n",
       "G    1.627270\n",
       "F    1.564356\n",
       "E    0.683882\n",
       "H    0.651257\n",
       "J   -0.655436\n",
       "B   -0.813521\n",
       "D   -1.481772\n",
       "I   -1.882693\n",
       "C   -2.049695\n",
       "Name: Index2, dtype: float64"
      ]
     },
     "execution_count": 30,
     "metadata": {},
     "output_type": "execute_result"
    }
   ],
   "source": [
    "pizza.groupby(\"brand\")[\"Index2\"].mean().sort_values(ascending = False)"
   ]
  },
  {
   "cell_type": "markdown",
   "metadata": {},
   "source": [
    "Итак, видно, что по первому индексу лидируют бренды A, D, B, по второму – A, G, F. Получается, бренд A, в целом, производит пиццы, как сбалансированные по составу, так и сытные, бренды D, B – преимущественно сбалансированные, а бренды G, F – сытные. \n",
    "\n",
    "Построим диаграмму рассеивания для этих двух компонент (до снижения размерности это не представлялось возможным, пространство было 7-мерное, 7-мерная диаграмму представить невозможно):"
   ]
  },
  {
   "cell_type": "code",
   "execution_count": 31,
   "metadata": {},
   "outputs": [
    {
     "data": {
      "image/png": "[encoded data removed]",
      "text/plain": [
       "<Figure size 432x288 with 1 Axes>"
      ]
     },
     "metadata": {
      "needs_background": "light"
     },
     "output_type": "display_data"
    }
   ],
   "source": [
    "pizza.plot.scatter(\"Index1\", \"Index2\");"
   ]
  },
  {
   "cell_type": "markdown",
   "metadata": {},
   "source": [
    "Что примечательно, точки на диаграмме не образуют какое-то хорошо оформленное облако с положительным или отрицательным наклоном. Это обусловлено тем, что теоретически две компоненты независимы, хотя выборочный коэффициент Пирсона между `Index1` и `Index2` нулевым быть не обязан. При этом на диаграмме явно прослеживаются группы наблюдений: четыре или даже пять, если вторую поделить на две. Если мы соберемся на таких данных проводить кластеризацию, она должна получиться довольно успешной.\n",
    "\n",
    "А пока можем закодировать бренды числами и добавить их на диаграмму (цвет точки зависит от бренда), чтобы понять, связано ли это деление на группы с различиями по брендам:"
   ]
  },
  {
   "cell_type": "code",
   "execution_count": 32,
   "metadata": {},
   "outputs": [],
   "source": [
    "# map: выполняет замену по парам соотвествий\n",
    "# пары старое значение-новое значение\n",
    "\n",
    "pizza[\"brand_int\"] = pizza[\"brand\"].map({\"A\" : 0, \"B\" : 1, \"C\" : 2,\n",
    "                                         \"D\" : 3, \"E\" : 4, \"F\" : 5, \n",
    "                                         \"G\" : 6, \"H\" : 7, \"I\" : 8, \n",
    "                                         \"J\" : 9})"
   ]
  },
  {
   "cell_type": "code",
   "execution_count": 33,
   "metadata": {},
   "outputs": [
    {
     "data": {
      "image/png": "[encoded data removed]",
      "text/plain": [
       "<Figure size 432x288 with 2 Axes>"
      ]
     },
     "metadata": {
      "needs_background": "light"
     },
     "output_type": "display_data"
    }
   ],
   "source": [
    "# c - color, цвет точки зависит от значений brand_int\n",
    "# cmap – color map, цветовая палитра\n",
    "\n",
    "pizza.plot.scatter(\"Index1\", \"Index2\", \n",
    "                   c = \"brand_int\", \n",
    "                   cmap = \"tab10\");"
   ]
  },
  {
   "cell_type": "markdown",
   "metadata": {},
   "source": [
    "Итак, видно, что некоторая зависимость от бренда все-таки есть. Группа точек в правом верхнем углу – это сбалансированные и сытные пиццы, которые производит только бренд A, группа из оранжевых, красных и зеленых точек – это три похожих бренда B, C, D, две небольшие группы из бирюзовых точек и точек болотного цвета – пиццы, несильно сбалансированные по составу и при этом не очень сытные, которые производятся разными брендами I и J.\n",
    "\n",
    "**NB.** Опять же, в другой версии `sklearn` значения главных компонент будут отличаться по знаку, поэтому картинка выше будет иной, как бы отраженной по вертикали (отличия в весах и знаке второй главной компоненты `Index 2`, а она здесь по вертикальной оси). Но интерпретация от этого не меняется, облако синих точек в таком случае будет в нижнем правом углу, это будут пиццы с большими значениями `Index 1` (сбалансированность состава) и маленькими значениями `Index 2` (легкость пиццы). Выходит, что бренд A выпускает пиццы со сбалансированным составом, но не «легкие», то есть сытные, что полностью соответсвует интерпретации данной картинки и описательных статистик выше."
   ]
  }
 ],
 "metadata": {
  "kernelspec": {
   "display_name": "Python 3",
   "language": "python",
   "name": "python3"
  },
  "language_info": {
   "codemirror_mode": {
    "name": "ipython",
    "version": 3
   },
   "file_extension": ".py",
   "mimetype": "text/x-python",
   "name": "python",
   "nbconvert_exporter": "python",
   "pygments_lexer": "ipython3",
   "version": "3.7.4"
  }
 },
 "nbformat": 4,
 "nbformat_minor": 2
}

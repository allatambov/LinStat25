{
 "cells": [
  {
   "cell_type": "markdown",
   "metadata": {},
   "source": [
    "# Линейная алгебра и приложения\n",
    "\n",
    "## Кластерный анализ: k-means и метод Варда\n",
    "\n",
    "*Алла Тамбовцева*"
   ]
  },
  {
   "cell_type": "markdown",
   "metadata": {},
   "source": [
    "### Подготовка к работе\n",
    "\n",
    "В этом практикуме мы продолжим работать с данными по квартирам в Москве из файла `flats_cian_upd.csv`. Только вместо иерархической кластеризации воспользуемся методом k-means (однако сначала вспомним, как выглядела дендрограмма, чтобы выбрать число кластеров $k$ для k-means).\n",
    "\n",
    "Импортируем необходимые библиотеки, модули и функции:\n",
    "\n",
    "* библиотеку `pandas` для обработки данных;\n",
    "* функции `linkage()`, `dendrogram()`, `cut_tree()` для реализации иерархического кластерного анализа;\n",
    "* функцию `KMeans()` для реализации кластерного анализа методом k-means;\n",
    "* функцию `StandardScaler()` для нормирования данных;\n",
    "* функцию `rand_score()` для оценки согласованности результатов кластеризации."
   ]
  },
  {
   "cell_type": "code",
   "execution_count": 1,
   "metadata": {},
   "outputs": [],
   "source": [
    "import pandas as pd\n",
    "from scipy.cluster.hierarchy import linkage, dendrogram, cut_tree\n",
    "from sklearn.cluster import KMeans\n",
    "from sklearn.preprocessing import StandardScaler\n",
    "from sklearn.metrics.cluster import rand_score"
   ]
  },
  {
   "cell_type": "markdown",
   "metadata": {},
   "source": [
    "Вспомним, как выглядели данные:"
   ]
  },
  {
   "cell_type": "code",
   "execution_count": 2,
   "metadata": {},
   "outputs": [
    {
     "data": {
      "text/html": [
       "<div>\n",
       "<style scoped>\n",
       "    .dataframe tbody tr th:only-of-type {\n",
       "        vertical-align: middle;\n",
       "    }\n",
       "\n",
       "    .dataframe tbody tr th {\n",
       "        vertical-align: top;\n",
       "    }\n",
       "\n",
       "    .dataframe thead th {\n",
       "        text-align: right;\n",
       "    }\n",
       "</style>\n",
       "<table border=\"1\" class=\"dataframe\">\n",
       "  <thead>\n",
       "    <tr style=\"text-align: right;\">\n",
       "      <th></th>\n",
       "      <th>price</th>\n",
       "      <th>lprice</th>\n",
       "      <th>square</th>\n",
       "      <th>rooms</th>\n",
       "      <th>floor</th>\n",
       "      <th>mfloor</th>\n",
       "      <th>station</th>\n",
       "      <th>metro</th>\n",
       "      <th>ametro</th>\n",
       "      <th>dmetro</th>\n",
       "      <th>link</th>\n",
       "      <th>add</th>\n",
       "      <th>lat</th>\n",
       "      <th>lon</th>\n",
       "    </tr>\n",
       "  </thead>\n",
       "  <tbody>\n",
       "    <tr>\n",
       "      <th>0</th>\n",
       "      <td>12000000</td>\n",
       "      <td>16.300417</td>\n",
       "      <td>60.0</td>\n",
       "      <td>3</td>\n",
       "      <td>1</td>\n",
       "      <td>9</td>\n",
       "      <td>метро Аннино</td>\n",
       "      <td>6 минут на транспорте</td>\n",
       "      <td>0</td>\n",
       "      <td>6</td>\n",
       "      <td>https://www.cian.ru/sale/flat/314948168/</td>\n",
       "      <td>Чертановская ул., 66К2</td>\n",
       "      <td>55.596930</td>\n",
       "      <td>37.585664</td>\n",
       "    </tr>\n",
       "    <tr>\n",
       "      <th>1</th>\n",
       "      <td>11499999</td>\n",
       "      <td>16.257858</td>\n",
       "      <td>37.9</td>\n",
       "      <td>1</td>\n",
       "      <td>16</td>\n",
       "      <td>20</td>\n",
       "      <td>метро Аннино</td>\n",
       "      <td>19 минут пешком</td>\n",
       "      <td>1</td>\n",
       "      <td>19</td>\n",
       "      <td>https://www.cian.ru/sale/flat/315677385/</td>\n",
       "      <td>ул. Газопровод, 15</td>\n",
       "      <td>55.589274</td>\n",
       "      <td>37.612650</td>\n",
       "    </tr>\n",
       "    <tr>\n",
       "      <th>2</th>\n",
       "      <td>36000000</td>\n",
       "      <td>17.399029</td>\n",
       "      <td>120.0</td>\n",
       "      <td>4</td>\n",
       "      <td>1</td>\n",
       "      <td>9</td>\n",
       "      <td>метро Аннино</td>\n",
       "      <td>7 минут на транспорте</td>\n",
       "      <td>0</td>\n",
       "      <td>7</td>\n",
       "      <td>https://www.cian.ru/sale/flat/309425036/</td>\n",
       "      <td>Старокачаловская ул., 14</td>\n",
       "      <td>55.569708</td>\n",
       "      <td>37.587596</td>\n",
       "    </tr>\n",
       "    <tr>\n",
       "      <th>3</th>\n",
       "      <td>13490000</td>\n",
       "      <td>16.417459</td>\n",
       "      <td>48.8</td>\n",
       "      <td>2</td>\n",
       "      <td>10</td>\n",
       "      <td>12</td>\n",
       "      <td>метро Аннино</td>\n",
       "      <td>15 минут пешком</td>\n",
       "      <td>1</td>\n",
       "      <td>15</td>\n",
       "      <td>https://www.cian.ru/sale/flat/316119734/</td>\n",
       "      <td>ул. Газопровод, 3К1</td>\n",
       "      <td>55.592418</td>\n",
       "      <td>37.604187</td>\n",
       "    </tr>\n",
       "    <tr>\n",
       "      <th>4</th>\n",
       "      <td>11900000</td>\n",
       "      <td>16.292049</td>\n",
       "      <td>41.9</td>\n",
       "      <td>1</td>\n",
       "      <td>14</td>\n",
       "      <td>14</td>\n",
       "      <td>метро Аннино</td>\n",
       "      <td>16 минут пешком</td>\n",
       "      <td>1</td>\n",
       "      <td>16</td>\n",
       "      <td>https://www.cian.ru/sale/flat/316733228/</td>\n",
       "      <td>Старобитцевская ул., 15К1</td>\n",
       "      <td>55.575022</td>\n",
       "      <td>37.586338</td>\n",
       "    </tr>\n",
       "  </tbody>\n",
       "</table>\n",
       "</div>"
      ],
      "text/plain": [
       "      price     lprice  square  rooms  floor  mfloor       station  \\\n",
       "0  12000000  16.300417    60.0      3      1       9  метро Аннино   \n",
       "1  11499999  16.257858    37.9      1     16      20  метро Аннино   \n",
       "2  36000000  17.399029   120.0      4      1       9  метро Аннино   \n",
       "3  13490000  16.417459    48.8      2     10      12  метро Аннино   \n",
       "4  11900000  16.292049    41.9      1     14      14  метро Аннино   \n",
       "\n",
       "                   metro  ametro  dmetro  \\\n",
       "0  6 минут на транспорте       0       6   \n",
       "1        19 минут пешком       1      19   \n",
       "2  7 минут на транспорте       0       7   \n",
       "3        15 минут пешком       1      15   \n",
       "4        16 минут пешком       1      16   \n",
       "\n",
       "                                       link                        add  \\\n",
       "0  https://www.cian.ru/sale/flat/314948168/     Чертановская ул., 66К2   \n",
       "1  https://www.cian.ru/sale/flat/315677385/         ул. Газопровод, 15   \n",
       "2  https://www.cian.ru/sale/flat/309425036/   Старокачаловская ул., 14   \n",
       "3  https://www.cian.ru/sale/flat/316119734/        ул. Газопровод, 3К1   \n",
       "4  https://www.cian.ru/sale/flat/316733228/  Старобитцевская ул., 15К1   \n",
       "\n",
       "         lat        lon  \n",
       "0  55.596930  37.585664  \n",
       "1  55.589274  37.612650  \n",
       "2  55.569708  37.587596  \n",
       "3  55.592418  37.604187  \n",
       "4  55.575022  37.586338  "
      ]
     },
     "execution_count": 2,
     "metadata": {},
     "output_type": "execute_result"
    }
   ],
   "source": [
    "df = pd.read_csv(\"https://raw.githubusercontent.com/allatambov/LinStat25/refs/heads/main/flats_cian_upd.csv\")\n",
    "df.head()"
   ]
  },
  {
   "cell_type": "markdown",
   "metadata": {},
   "source": [
    "Переменные в файле:\n",
    "\n",
    "* `price`: цена в рублях;\n",
    "* `lprice`: логарифм цены;\n",
    "* `square`: площадь квартиры, в кв. метрах;\n",
    "* `rooms`: число комнат;\n",
    "* `floor`: этаж;\n",
    "* `mfloor`: число этажей в доме;\n",
    "* `station`: станция метро;\n",
    "* `metro`: доступность и расстояние до метро;\n",
    "* `ametro`: шаговая доступность метро (1 – да, 0 – нет);\n",
    "* `dmetro`: расстояние до метро (на транспорте или пешком), в минутах;\n",
    "* `link`: ссылка на объявление;\n",
    "* `add`: адрес;\n",
    "* `lat`: широта;\n",
    "* `lon`: долгота."
   ]
  },
  {
   "cell_type": "markdown",
   "metadata": {},
   "source": [
    "Немного изменим задачу, которая была в прошлый раз. Агрегируем данные – сгруппируем квартиры по ближайшей станции метро и вычислим среднюю цену, площадь, число комнат, этаж и расстояние до метро:"
   ]
  },
  {
   "cell_type": "code",
   "execution_count": 3,
   "metadata": {},
   "outputs": [
    {
     "name": "stdout",
     "output_type": "stream",
     "text": [
      "(146, 5)\n"
     ]
    },
    {
     "data": {
      "text/html": [
       "<div>\n",
       "<style scoped>\n",
       "    .dataframe tbody tr th:only-of-type {\n",
       "        vertical-align: middle;\n",
       "    }\n",
       "\n",
       "    .dataframe tbody tr th {\n",
       "        vertical-align: top;\n",
       "    }\n",
       "\n",
       "    .dataframe thead th {\n",
       "        text-align: right;\n",
       "    }\n",
       "</style>\n",
       "<table border=\"1\" class=\"dataframe\">\n",
       "  <thead>\n",
       "    <tr style=\"text-align: right;\">\n",
       "      <th></th>\n",
       "      <th>price</th>\n",
       "      <th>square</th>\n",
       "      <th>rooms</th>\n",
       "      <th>floor</th>\n",
       "      <th>dmetro</th>\n",
       "    </tr>\n",
       "    <tr>\n",
       "      <th>station</th>\n",
       "      <th></th>\n",
       "      <th></th>\n",
       "      <th></th>\n",
       "      <th></th>\n",
       "      <th></th>\n",
       "    </tr>\n",
       "  </thead>\n",
       "  <tbody>\n",
       "    <tr>\n",
       "      <th>метро Авиамоторная</th>\n",
       "      <td>2.777304e+07</td>\n",
       "      <td>65.601538</td>\n",
       "      <td>2.307692</td>\n",
       "      <td>8.630769</td>\n",
       "      <td>9.076923</td>\n",
       "    </tr>\n",
       "    <tr>\n",
       "      <th>метро Автозаводская</th>\n",
       "      <td>3.982362e+07</td>\n",
       "      <td>74.584545</td>\n",
       "      <td>2.127273</td>\n",
       "      <td>11.145455</td>\n",
       "      <td>11.236364</td>\n",
       "    </tr>\n",
       "    <tr>\n",
       "      <th>метро Алексеевская</th>\n",
       "      <td>3.153955e+07</td>\n",
       "      <td>68.810241</td>\n",
       "      <td>2.204819</td>\n",
       "      <td>9.367470</td>\n",
       "      <td>9.680723</td>\n",
       "    </tr>\n",
       "    <tr>\n",
       "      <th>метро Алма-Атинская</th>\n",
       "      <td>1.775000e+07</td>\n",
       "      <td>59.725000</td>\n",
       "      <td>2.500000</td>\n",
       "      <td>6.750000</td>\n",
       "      <td>14.000000</td>\n",
       "    </tr>\n",
       "    <tr>\n",
       "      <th>метро Алтуфьево</th>\n",
       "      <td>1.395631e+07</td>\n",
       "      <td>53.087805</td>\n",
       "      <td>2.146341</td>\n",
       "      <td>6.902439</td>\n",
       "      <td>8.439024</td>\n",
       "    </tr>\n",
       "  </tbody>\n",
       "</table>\n",
       "</div>"
      ],
      "text/plain": [
       "                            price     square     rooms      floor     dmetro\n",
       "station                                                                     \n",
       "метро Авиамоторная   2.777304e+07  65.601538  2.307692   8.630769   9.076923\n",
       "метро Автозаводская  3.982362e+07  74.584545  2.127273  11.145455  11.236364\n",
       "метро Алексеевская   3.153955e+07  68.810241  2.204819   9.367470   9.680723\n",
       "метро Алма-Атинская  1.775000e+07  59.725000  2.500000   6.750000  14.000000\n",
       "метро Алтуфьево      1.395631e+07  53.087805  2.146341   6.902439   8.439024"
      ]
     },
     "execution_count": 3,
     "metadata": {},
     "output_type": "execute_result"
    }
   ],
   "source": [
    "df_agg = df.groupby(\"station\")[[\"price\", \"square\", \"rooms\", \n",
    "                                \"floor\", \"dmetro\"]].mean()\n",
    "print(df_agg.shape)\n",
    "df_agg.head()"
   ]
  },
  {
   "cell_type": "markdown",
   "metadata": {},
   "source": [
    "Теперь единица анализа – станция метро, и нам необходимо кластеризовать станции метро на основе характеристик квартир в их окрестности. То есть, 146 станций надо разбить на группы в зависимости от стоимости и качества недвижимости вокруг.\n",
    "\n",
    "Стандартизируем данные:"
   ]
  },
  {
   "cell_type": "code",
   "execution_count": 4,
   "metadata": {},
   "outputs": [],
   "source": [
    "scaler = StandardScaler()\n",
    "X = scaler.fit_transform(df_agg)"
   ]
  },
  {
   "cell_type": "markdown",
   "metadata": {},
   "source": [
    "### Вспоминаем иерархический кластерный анализ и выбираем число кластеров\n",
    "\n",
    "Выполним кластеризацию, используя метод Варда (автоматически задействует подходящую метрику – квадрат евклидова расстояния):"
   ]
  },
  {
   "cell_type": "code",
   "execution_count": 5,
   "metadata": {},
   "outputs": [
    {
     "data": {
      "image/png": "[encoded data removed]",
      "text/plain": [
       "<Figure size 432x288 with 1 Axes>"
      ]
     },
     "metadata": {
      "needs_background": "light"
     },
     "output_type": "display_data"
    }
   ],
   "source": [
    "hc = linkage(X, method = \"ward\")\n",
    "dendrogram(hc);"
   ]
  },
  {
   "cell_type": "markdown",
   "metadata": {},
   "source": [
    "Выделим три кластера и сохраним числовые метки групп как `clusters_ward`:"
   ]
  },
  {
   "cell_type": "code",
   "execution_count": 6,
   "metadata": {},
   "outputs": [
    {
     "name": "stdout",
     "output_type": "stream",
     "text": [
      "[0 0 0 0 0 1 0 2 0 0 1 0 1 2 0 0 0 0 0 0 0 0 0 2 0 1 0 0 1 0 1 0 1 1 0 0 0\n",
      " 0 2 0 0 0 0 1 1 0 0 1 2 0 1 1 1 0 0 2 0 0 1 0 1 0 1 0 1 1 0 0 0 1 0 0 2 0\n",
      " 0 1 1 0 1 0 1 2 0 0 0 1 1 0 1 0 0 2 0 2 0 0 1 1 0 1 0 1 0 0 0 1 0 0 1 2 1\n",
      " 0 0 0 0 1 1 2 2 1 1 1 0 0 0 0 1 0 0 0 0 1 2 0 0 1 0 0 1 0 1 0 0 0 0 0]\n"
     ]
    }
   ],
   "source": [
    "clusters_ward = cut_tree(hc, n_clusters = 3).reshape(-1, )\n",
    "print(clusters_ward)"
   ]
  },
  {
   "cell_type": "markdown",
   "metadata": {},
   "source": [
    "**Важно:** нет гарантиии, что Python занумерует кластеры ровно так же, как на дендрограмме, слева направо (самый левый кластер – номер 0, самый правый – номер 2), поэтому при оценке результатов или сравнении разных способов кластеризации стоит ориентироваться не на номера групп, а на то, какие наблюдения туда входят и на то, похож ли состав групп в разных вариантах деления на кластеры)."
   ]
  },
  {
   "cell_type": "markdown",
   "metadata": {},
   "source": [
    "### Реализуем кластеризацию методом k-means\n",
    "\n",
    "Теперь реализуем кластерный анализ методом k-means с числом кластеров $k=3$. Так как на первом шаге алгоритм распределяет наблюдения на кластеры случайно (точнее, случайно «расставляет» центроиды и на основе близости к ним относит наблюдения к группам), для воспроизводимости результатов зафиксируем стартовую точку алгоритма `random_state`:"
   ]
  },
  {
   "cell_type": "code",
   "execution_count": 7,
   "metadata": {},
   "outputs": [],
   "source": [
    "# random_state – любое целое неотрицательное число\n",
    "# если все укажем 1234, результаты должны получиться одинаковыми\n",
    "\n",
    "kmeans = KMeans(n_clusters=3, random_state=1234).fit(X)"
   ]
  },
  {
   "cell_type": "markdown",
   "metadata": {},
   "source": [
    "**Поянения к коду.** Функция `KMeans()` создаёт объект класса `sklearn.cluster._kmeans.KMeans`, на него можно смотреть как на хранилище результатов, из которого можно извлечь отдельные элементы, например, метки кластеров, координаты центроидов, число итераций, которое потребовалось для получения итогового деления на группы. Часть кода `KMeans(n_clusters=3, random_state=1234)` резервирует место под «пустое» хранилище для результатов деления на три кластера, а метод `.fit()` применяет алгоритм кластеризации к данным `X`. \n",
    "\n",
    "Для примера запросим координаты центроидов (окончательные центры кластеры, которые получились по итогам деления на группы) – их должно быть три:"
   ]
  },
  {
   "cell_type": "code",
   "execution_count": 8,
   "metadata": {},
   "outputs": [
    {
     "name": "stdout",
     "output_type": "stream",
     "text": [
      "[[ 0.01819447  0.32114985  0.51999801  0.23941549  0.44226741]\n",
      " [-0.50706724 -0.64477778 -0.65954386  0.05279361 -0.42676436]\n",
      " [ 2.47847849  2.22029563  1.67272556 -1.01214147  0.75173616]]\n"
     ]
    }
   ],
   "source": [
    "# три центра, пространство пятимерное – 5 показателей (столбцов) на входе\n",
    "# три массива из пяти значений\n",
    "\n",
    "print(kmeans.cluster_centers_)"
   ]
  },
  {
   "cell_type": "markdown",
   "metadata": {},
   "source": [
    "Теперь запросим метки кластеров:"
   ]
  },
  {
   "cell_type": "code",
   "execution_count": 9,
   "metadata": {},
   "outputs": [
    {
     "name": "stdout",
     "output_type": "stream",
     "text": [
      "[1 0 1 0 1 0 1 2 1 1 0 1 0 2 1 1 1 1 1 1 1 1 1 2 0 0 1 0 2 1 0 1 1 0 1 1 1\n",
      " 1 2 0 1 1 1 0 0 0 1 0 2 1 0 0 0 1 1 2 1 1 0 1 0 1 0 1 0 0 1 1 1 0 1 1 2 1\n",
      " 1 0 0 1 0 1 0 2 1 1 1 0 0 1 0 1 0 2 1 2 1 1 0 0 1 0 1 0 1 1 1 0 1 1 0 2 0\n",
      " 1 1 0 1 0 0 2 2 0 0 0 0 1 1 1 2 1 1 1 1 0 2 1 1 0 1 1 0 1 0 1 1 1 1 1]\n"
     ]
    }
   ],
   "source": [
    "clusters_kmeans = kmeans.labels_\n",
    "print(clusters_kmeans)"
   ]
  },
  {
   "cell_type": "markdown",
   "metadata": {},
   "source": [
    "Если мы сравним метки кластеров с тем, что было получено ранее по результатом иерархической кластеризации методом Варда, мы увидим, что они разные:"
   ]
  },
  {
   "cell_type": "code",
   "execution_count": 10,
   "metadata": {},
   "outputs": [
    {
     "name": "stdout",
     "output_type": "stream",
     "text": [
      "[0 0 0 0 0 1 0 2 0 0 1 0 1 2 0 0 0 0 0 0 0 0 0 2 0 1 0 0 1 0 1 0 1 1 0 0 0\n",
      " 0 2 0 0 0 0 1 1 0 0 1 2 0 1 1 1 0 0 2 0 0 1 0 1 0 1 0 1 1 0 0 0 1 0 0 2 0\n",
      " 0 1 1 0 1 0 1 2 0 0 0 1 1 0 1 0 0 2 0 2 0 0 1 1 0 1 0 1 0 0 0 1 0 0 1 2 1\n",
      " 0 0 0 0 1 1 2 2 1 1 1 0 0 0 0 1 0 0 0 0 1 2 0 0 1 0 0 1 0 1 0 0 0 0 0]\n",
      "[1 0 1 0 1 0 1 2 1 1 0 1 0 2 1 1 1 1 1 1 1 1 1 2 0 0 1 0 2 1 0 1 1 0 1 1 1\n",
      " 1 2 0 1 1 1 0 0 0 1 0 2 1 0 0 0 1 1 2 1 1 0 1 0 1 0 1 0 0 1 1 1 0 1 1 2 1\n",
      " 1 0 0 1 0 1 0 2 1 1 1 0 0 1 0 1 0 2 1 2 1 1 0 0 1 0 1 0 1 1 1 0 1 1 0 2 0\n",
      " 1 1 0 1 0 0 2 2 0 0 0 0 1 1 1 2 1 1 1 1 0 2 1 1 0 1 1 0 1 0 1 1 1 1 1]\n"
     ]
    }
   ],
   "source": [
    "print(clusters_ward)\n",
    "print(clusters_kmeans)"
   ]
  },
  {
   "cell_type": "markdown",
   "metadata": {},
   "source": [
    "Однако это не значит, что результаты кардинально отличаются, просто Python по-разному занумеровал кластеры в первом и втором случае. Для сравнения имеет смысл сохранить и те, и другие метки кластеров в исходный датафрейм, а затем отфильтровать соответствующие наблюдения и сравнить состав групп. \n",
    "\n",
    "Главный вопрос: зачем это делать, если считается, что метод k-means даёт более точные результаты? Не всегда более точный метод может дать понятные и интересные с содержательной точки зрения кластеры, так как не всегда деление на группы стоит основывать исключительно на средних значениях показателей."
   ]
  },
  {
   "cell_type": "markdown",
   "metadata": {},
   "source": [
    "### Сравниваем результаты иерархической кластеризации и кластеризации методом k-means"
   ]
  },
  {
   "cell_type": "markdown",
   "metadata": {},
   "source": [
    "Добавим столбцы с метками кластеров в датафрейм `df_agg`:"
   ]
  },
  {
   "cell_type": "code",
   "execution_count": 11,
   "metadata": {},
   "outputs": [
    {
     "data": {
      "text/html": [
       "<div>\n",
       "<style scoped>\n",
       "    .dataframe tbody tr th:only-of-type {\n",
       "        vertical-align: middle;\n",
       "    }\n",
       "\n",
       "    .dataframe tbody tr th {\n",
       "        vertical-align: top;\n",
       "    }\n",
       "\n",
       "    .dataframe thead th {\n",
       "        text-align: right;\n",
       "    }\n",
       "</style>\n",
       "<table border=\"1\" class=\"dataframe\">\n",
       "  <thead>\n",
       "    <tr style=\"text-align: right;\">\n",
       "      <th></th>\n",
       "      <th>price</th>\n",
       "      <th>square</th>\n",
       "      <th>rooms</th>\n",
       "      <th>floor</th>\n",
       "      <th>dmetro</th>\n",
       "      <th>ward</th>\n",
       "      <th>kmeans</th>\n",
       "    </tr>\n",
       "    <tr>\n",
       "      <th>station</th>\n",
       "      <th></th>\n",
       "      <th></th>\n",
       "      <th></th>\n",
       "      <th></th>\n",
       "      <th></th>\n",
       "      <th></th>\n",
       "      <th></th>\n",
       "    </tr>\n",
       "  </thead>\n",
       "  <tbody>\n",
       "    <tr>\n",
       "      <th>метро Авиамоторная</th>\n",
       "      <td>2.777304e+07</td>\n",
       "      <td>65.601538</td>\n",
       "      <td>2.307692</td>\n",
       "      <td>8.630769</td>\n",
       "      <td>9.076923</td>\n",
       "      <td>0</td>\n",
       "      <td>1</td>\n",
       "    </tr>\n",
       "    <tr>\n",
       "      <th>метро Автозаводская</th>\n",
       "      <td>3.982362e+07</td>\n",
       "      <td>74.584545</td>\n",
       "      <td>2.127273</td>\n",
       "      <td>11.145455</td>\n",
       "      <td>11.236364</td>\n",
       "      <td>0</td>\n",
       "      <td>0</td>\n",
       "    </tr>\n",
       "    <tr>\n",
       "      <th>метро Алексеевская</th>\n",
       "      <td>3.153955e+07</td>\n",
       "      <td>68.810241</td>\n",
       "      <td>2.204819</td>\n",
       "      <td>9.367470</td>\n",
       "      <td>9.680723</td>\n",
       "      <td>0</td>\n",
       "      <td>1</td>\n",
       "    </tr>\n",
       "    <tr>\n",
       "      <th>метро Алма-Атинская</th>\n",
       "      <td>1.775000e+07</td>\n",
       "      <td>59.725000</td>\n",
       "      <td>2.500000</td>\n",
       "      <td>6.750000</td>\n",
       "      <td>14.000000</td>\n",
       "      <td>0</td>\n",
       "      <td>0</td>\n",
       "    </tr>\n",
       "    <tr>\n",
       "      <th>метро Алтуфьево</th>\n",
       "      <td>1.395631e+07</td>\n",
       "      <td>53.087805</td>\n",
       "      <td>2.146341</td>\n",
       "      <td>6.902439</td>\n",
       "      <td>8.439024</td>\n",
       "      <td>0</td>\n",
       "      <td>1</td>\n",
       "    </tr>\n",
       "  </tbody>\n",
       "</table>\n",
       "</div>"
      ],
      "text/plain": [
       "                            price     square     rooms      floor     dmetro  \\\n",
       "station                                                                        \n",
       "метро Авиамоторная   2.777304e+07  65.601538  2.307692   8.630769   9.076923   \n",
       "метро Автозаводская  3.982362e+07  74.584545  2.127273  11.145455  11.236364   \n",
       "метро Алексеевская   3.153955e+07  68.810241  2.204819   9.367470   9.680723   \n",
       "метро Алма-Атинская  1.775000e+07  59.725000  2.500000   6.750000  14.000000   \n",
       "метро Алтуфьево      1.395631e+07  53.087805  2.146341   6.902439   8.439024   \n",
       "\n",
       "                     ward  kmeans  \n",
       "station                            \n",
       "метро Авиамоторная      0       1  \n",
       "метро Автозаводская     0       0  \n",
       "метро Алексеевская      0       1  \n",
       "метро Алма-Атинская     0       0  \n",
       "метро Алтуфьево         0       1  "
      ]
     },
     "execution_count": 11,
     "metadata": {},
     "output_type": "execute_result"
    }
   ],
   "source": [
    "df_agg[\"ward\"] =  clusters_ward\n",
    "df_agg[\"kmeans\"] = clusters_kmeans\n",
    "df_agg.head()"
   ]
  },
  {
   "cell_type": "markdown",
   "metadata": {},
   "source": [
    "Отфильтруем строки, соответствующие каждому кластеру, по итогам иерархической кластеризации:"
   ]
  },
  {
   "cell_type": "code",
   "execution_count": 12,
   "metadata": {},
   "outputs": [],
   "source": [
    "cluster0_ward = df_agg[df_agg[\"ward\"] == 0]\n",
    "cluster1_ward = df_agg[df_agg[\"ward\"] == 1]\n",
    "cluster2_ward = df_agg[df_agg[\"ward\"] == 2]"
   ]
  },
  {
   "cell_type": "markdown",
   "metadata": {},
   "source": [
    "Посмотрим на станции метро в кластерах 0, 1 и 2:"
   ]
  },
  {
   "cell_type": "code",
   "execution_count": 13,
   "metadata": {},
   "outputs": [
    {
     "name": "stdout",
     "output_type": "stream",
     "text": [
      "0 ['метро Авиамоторная', 'метро Автозаводская', 'метро Алексеевская', 'метро Алма-Атинская', 'метро Алтуфьево', 'метро Аннино', 'метро Аэропорт', 'метро Багратионовская', 'метро Беломорская', 'метро Борисово', 'метро Бульвар Адмирала Ушакова', 'метро Бульвар Дмитрия Донского', 'метро Бунинская аллея', 'метро Варшавская', 'метро Водный стадион', 'метро Войковская', 'метро Волгоградский проспект', 'метро Волоколамская', 'метро Воронцовская', 'метро Давыдково', 'метро Дмитровская', 'метро Домодедовская', 'метро Дубровка', 'метро Зябликово', 'метро Измайловская', 'метро Кантемировская', 'метро Каширская', 'метро Кожуховская', 'метро Коломенская', 'метро Коммунарка', 'метро Комсомольская', 'метро Красные Ворота', 'метро Крестьянская Застава', 'метро Кузьминки', 'метро Лесопарковая', 'метро Лианозово', 'метро Лухмановская', 'метро Люблино', 'метро Марьина Роща', 'метро Медведково', 'метро Митино', 'метро Мякинино', 'метро Нахимовский проспект', 'метро Нижегородская', 'метро Новогиреево', 'метро Новокосино', 'метро Новопеределкино', 'метро Новоясеневская', 'метро Окская', 'метро Ольховая', 'метро Партизанская', 'метро Первомайская', 'метро Перово', 'метро Печатники', 'метро Планерная', 'метро Площадь Ильича', 'метро Полежаевская', 'метро Потапово', 'метро Преображенская площадь', 'метро Пятницкое шоссе', 'метро Речной вокзал', 'метро Румянцево', 'метро Рязанский проспект', 'метро Саларьево', 'метро Семёновская', 'метро Серпуховская', 'метро Сокольники', 'метро Спартак', 'метро Спортивная', 'метро Строгино', 'метро Тульская', 'метро Тушинская', 'метро Тютчевская', 'метро Тёплый Стан', 'метро Улица Академика Янгеля', 'метро Улица Горчакова', 'метро Улица Дмитриевского', 'метро Улица Старокачаловская', 'метро Ховрино', 'метро Хорошёвская', 'метро Царицыно', 'метро Чертановская', 'метро Шипиловская', 'метро Юго-Восточная', 'метро Юго-Западная', 'метро Южная', 'метро Ясенево', 'метро Яхромская']\n",
      "1 ['метро Аминьевская', 'метро Бауманская', 'метро Белорусская', 'метро Генерала Тюленева', 'метро Добрынинская', 'метро Достоевская', 'метро Жулебино', 'метро Зюзино', 'метро Косино', 'метро Красносельская', 'метро Крылатское', 'метро Курская', 'метро Кутузовская', 'метро Ленинский проспект', 'метро Марксистская', 'метро Маяковская', 'метро Минская', 'метро Мичуринский проспект', 'метро Москва-Сити', 'метро Новаторская', 'метро Новые Черёмушки', 'метро Озёрная', 'метро Октябрьское Поле', 'метро Павелецкая', 'метро Петровский парк', 'метро Петровско-Разумовская', 'метро Пионерская', 'метро Проспект Мира', 'метро Пушкинская', 'метро Раменки', 'метро Рижская', 'метро Севастопольская', 'метро Славянский бульвар', 'метро Сокол', 'метро Сухаревская', 'метро Таганская', 'метро Терехово', 'метро Тропарёво', 'метро Трубная', 'метро Улица 1905 года', 'метро Университет', 'метро ЦСКА', 'метро Шаболовская', 'метро Щукинская']\n",
      "2 ['метро Арбатская', 'метро Библиотека имени Ленина', 'метро Воробьёвы горы', 'метро Киевская', 'метро Кузнецкий Мост', 'метро Лубянка', 'метро Новокузнецкая', 'метро Парк культуры', 'метро Площадь Революции', 'метро Полянка', 'метро Смоленская', 'метро Тверская', 'метро Театральная', 'метро Фрунзенская']\n"
     ]
    }
   ],
   "source": [
    "# .index, потому что названия станций сохранены как названия строк\n",
    "# sorted() – сортируем по алфавиту для удобства\n",
    "\n",
    "print(\"0\", sorted(cluster0_ward.index))\n",
    "print(\"1\", sorted(cluster1_ward.index))\n",
    "print(\"2\", sorted(cluster2_ward.index))"
   ]
  },
  {
   "cell_type": "markdown",
   "metadata": {},
   "source": [
    "Что видно?\n",
    "\n",
    "* Кластер 2: «первое кольцо», Бульварное кольцо и Хамовники;\n",
    "* Кластер 1: «второе кольцо», не самый центр, но вполне элитные районы с новой застройкой (Москва-Сити, Тропарево) или со старой застройкой (Белорусская-Маяковская, Октябрьское Поле-Щукинская);\n",
    "* Кластер 0: удаленные от центра станции, несильно дорогое жилье."
   ]
  },
  {
   "cell_type": "markdown",
   "metadata": {},
   "source": [
    "Проделаем то же для результатов k-means:"
   ]
  },
  {
   "cell_type": "code",
   "execution_count": 14,
   "metadata": {},
   "outputs": [],
   "source": [
    "cluster0_kmeans = df_agg[df_agg[\"kmeans\"] == 0]\n",
    "cluster1_kmeans = df_agg[df_agg[\"kmeans\"] == 1]\n",
    "cluster2_kmeans = df_agg[df_agg[\"kmeans\"] == 2]"
   ]
  },
  {
   "cell_type": "code",
   "execution_count": 15,
   "metadata": {},
   "outputs": [
    {
     "name": "stdout",
     "output_type": "stream",
     "text": [
      "0 ['метро Автозаводская', 'метро Алма-Атинская', 'метро Аминьевская', 'метро Бауманская', 'метро Белорусская', 'метро Воронцовская', 'метро Генерала Тюленева', 'метро Дмитровская', 'метро Достоевская', 'метро Зюзино', 'метро Кожуховская', 'метро Косино', 'метро Красносельская', 'метро Красные Ворота', 'метро Крылатское', 'метро Курская', 'метро Кутузовская', 'метро Ленинский проспект', 'метро Марксистская', 'метро Маяковская', 'метро Минская', 'метро Мичуринский проспект', 'метро Москва-Сити', 'метро Новаторская', 'метро Новые Черёмушки', 'метро Озёрная', 'метро Октябрьское Поле', 'метро Павелецкая', 'метро Петровский парк', 'метро Петровско-Разумовская', 'метро Пионерская', 'метро Площадь Ильича', 'метро Проспект Мира', 'метро Пушкинская', 'метро Раменки', 'метро Рижская', 'метро Севастопольская', 'метро Славянский бульвар', 'метро Сокол', 'метро Спортивная', 'метро Сухаревская', 'метро Таганская', 'метро Терехово', 'метро Тропарёво', 'метро Трубная', 'метро Тульская', 'метро Университет', 'метро ЦСКА', 'метро Шаболовская', 'метро Щукинская']\n",
      "1 ['метро Авиамоторная', 'метро Алексеевская', 'метро Алтуфьево', 'метро Аннино', 'метро Аэропорт', 'метро Багратионовская', 'метро Беломорская', 'метро Борисово', 'метро Бульвар Адмирала Ушакова', 'метро Бульвар Дмитрия Донского', 'метро Бунинская аллея', 'метро Варшавская', 'метро Водный стадион', 'метро Войковская', 'метро Волгоградский проспект', 'метро Волоколамская', 'метро Давыдково', 'метро Домодедовская', 'метро Дубровка', 'метро Жулебино', 'метро Зябликово', 'метро Измайловская', 'метро Кантемировская', 'метро Каширская', 'метро Коломенская', 'метро Коммунарка', 'метро Комсомольская', 'метро Крестьянская Застава', 'метро Кузьминки', 'метро Лесопарковая', 'метро Лианозово', 'метро Лухмановская', 'метро Люблино', 'метро Марьина Роща', 'метро Медведково', 'метро Митино', 'метро Мякинино', 'метро Нахимовский проспект', 'метро Нижегородская', 'метро Новогиреево', 'метро Новокосино', 'метро Новопеределкино', 'метро Новоясеневская', 'метро Окская', 'метро Ольховая', 'метро Партизанская', 'метро Первомайская', 'метро Перово', 'метро Печатники', 'метро Планерная', 'метро Полежаевская', 'метро Потапово', 'метро Преображенская площадь', 'метро Пятницкое шоссе', 'метро Речной вокзал', 'метро Румянцево', 'метро Рязанский проспект', 'метро Саларьево', 'метро Семёновская', 'метро Серпуховская', 'метро Сокольники', 'метро Спартак', 'метро Строгино', 'метро Тушинская', 'метро Тютчевская', 'метро Тёплый Стан', 'метро Улица Академика Янгеля', 'метро Улица Горчакова', 'метро Улица Дмитриевского', 'метро Улица Старокачаловская', 'метро Ховрино', 'метро Хорошёвская', 'метро Царицыно', 'метро Чертановская', 'метро Шипиловская', 'метро Юго-Восточная', 'метро Юго-Западная', 'метро Южная', 'метро Ясенево', 'метро Яхромская']\n",
      "2 ['метро Арбатская', 'метро Библиотека имени Ленина', 'метро Воробьёвы горы', 'метро Добрынинская', 'метро Киевская', 'метро Кузнецкий Мост', 'метро Лубянка', 'метро Новокузнецкая', 'метро Парк культуры', 'метро Площадь Революции', 'метро Полянка', 'метро Смоленская', 'метро Тверская', 'метро Театральная', 'метро Улица 1905 года', 'метро Фрунзенская']\n"
     ]
    }
   ],
   "source": [
    "print(\"0\", sorted(cluster0_kmeans.index))\n",
    "print(\"1\", sorted(cluster1_kmeans.index))\n",
    "print(\"2\", sorted(cluster2_kmeans.index))"
   ]
  },
  {
   "cell_type": "markdown",
   "metadata": {},
   "source": [
    "При внимательном изучении списков можно установить, какие кластеры по итогам иерархической кластеризации и k-means получились наиболее похожими. Если смотреть на вопрос сравнения более формально, можем перейти к множествам и установить, какие кластеры содержат наибольшее число совпадений:"
   ]
  },
  {
   "cell_type": "code",
   "execution_count": 16,
   "metadata": {},
   "outputs": [],
   "source": [
    "# превращаем в множества, множество - set\n",
    "\n",
    "set0_ward = set(cluster0_ward.index)\n",
    "set1_ward = set(cluster1_ward.index)\n",
    "set2_ward = set(cluster2_ward.index)\n",
    "\n",
    "set0_kmeans = set(cluster0_kmeans.index)\n",
    "set1_kmeans = set(cluster1_kmeans.index)\n",
    "set2_kmeans = set(cluster2_kmeans.index)"
   ]
  },
  {
   "cell_type": "markdown",
   "metadata": {},
   "source": [
    "Сравниваем каждый кластер из `_ward` с каждым кластером из `_kmeans` (не кластеры `_ward` между собой и\n",
    "не кластеры `_kmeans` между собой, кластеры в рамках одного метода не пересекаются), чтобы понять, какие кластеры похожи больше всего:"
   ]
  },
  {
   "cell_type": "code",
   "execution_count": 17,
   "metadata": {},
   "outputs": [
    {
     "name": "stdout",
     "output_type": "stream",
     "text": [
      "9\n",
      "79\n",
      "0\n"
     ]
    }
   ],
   "source": [
    "# метод .intersection() на множествах – пересечение\n",
    "# len() – считаем число элементов в пересечении\n",
    "\n",
    "# кластер 0 по методу Варда\n",
    "print(len(set0_ward.intersection(set0_kmeans)))\n",
    "print(len(set0_ward.intersection(set1_kmeans)))\n",
    "print(len(set0_ward.intersection(set2_kmeans)))"
   ]
  },
  {
   "cell_type": "markdown",
   "metadata": {},
   "source": [
    "Очевидно, что кластер 0 по итогам кластеризации методом Варда и кластер 1 по итогам k-means – самые похожие. Это не означает, что они полностью совпадают, просто совпадений больше всего. Проделаем эти операции для двух оставшихся кластеров, чтобы понимать, какие группы имеет смысл сравнивать при решении, результаты какой кластеризации нам подходят больше:"
   ]
  },
  {
   "cell_type": "code",
   "execution_count": 18,
   "metadata": {},
   "outputs": [
    {
     "name": "stdout",
     "output_type": "stream",
     "text": [
      "41\n",
      "1\n",
      "2\n"
     ]
    }
   ],
   "source": [
    "# кластер 1 по методу Варда\n",
    "print(len(set1_ward.intersection(set0_kmeans)))\n",
    "print(len(set1_ward.intersection(set1_kmeans)))\n",
    "print(len(set1_ward.intersection(set2_kmeans)))"
   ]
  },
  {
   "cell_type": "code",
   "execution_count": 19,
   "metadata": {},
   "outputs": [
    {
     "name": "stdout",
     "output_type": "stream",
     "text": [
      "0\n",
      "0\n",
      "14\n"
     ]
    }
   ],
   "source": [
    "# кластер 2 по методу Варда\n",
    "print(len(set2_ward.intersection(set0_kmeans)))\n",
    "print(len(set2_ward.intersection(set1_kmeans)))\n",
    "print(len(set2_ward.intersection(set2_kmeans)))"
   ]
  },
  {
   "cell_type": "markdown",
   "metadata": {},
   "source": [
    "Итого, соотношение такое (примерно, кластеры не обязаны совпадать на 100%):\n",
    "\n",
    "* кластер 0 по методу Варда – это кластер 1 по методу k-means;\n",
    "* кластер 1 по методу Варда – это кластер 0 по методу k-means;\n",
    "* кластер 2 по методу Варда – это кластер 2 по методу k-means (вот тут 100% сопадение!).\n",
    "\n",
    "Пользуясь теми же операциями над множествами, можем узнать, какие районы не входят в наиболее схожие кластеры по итогам той или иной кластеризации:"
   ]
  },
  {
   "cell_type": "code",
   "execution_count": 20,
   "metadata": {},
   "outputs": [
    {
     "name": "stdout",
     "output_type": "stream",
     "text": [
      "{'метро Кожуховская', 'метро Алма-Атинская', 'метро Тульская', 'метро Площадь Ильича', 'метро Автозаводская', 'метро Спортивная', 'метро Красные Ворота', 'метро Дмитровская', 'метро Воронцовская'}\n"
     ]
    }
   ],
   "source": [
    "# какие станции метро есть в кластере 0 по Варду,\n",
    "# но «ушли» при кластеризации k-means\n",
    "\n",
    "print(set0_ward.difference(set1_kmeans))"
   ]
  },
  {
   "cell_type": "markdown",
   "metadata": {},
   "source": [
    "Из кластера 0 со «среднестатистическими» с точки зрения недвижимости районами при реализации k-means ушли станции метро с достаточно дорогими квартирами вокруг (старые дома, высотки, «сталинки» и проч). Кажется, k-means проявляет себя хорошо. Посмотрим на остальные «перетекания» наблюдений. "
   ]
  },
  {
   "cell_type": "code",
   "execution_count": 21,
   "metadata": {},
   "outputs": [
    {
     "name": "stdout",
     "output_type": "stream",
     "text": [
      "{'метро Жулебино', 'метро Добрынинская', 'метро Улица 1905 года'}\n"
     ]
    }
   ],
   "source": [
    "print(set1_ward.difference(set0_kmeans))"
   ]
  },
  {
   "cell_type": "markdown",
   "metadata": {},
   "source": [
    "Из кластера 1 преимущественно со станциями «второго кольца» утекла станция метро Жулебино (удалена от центра, разумно), а также станции Добрынинская и Улица 1905 года (спорно, но эти районы неоднородные)."
   ]
  },
  {
   "cell_type": "code",
   "execution_count": 22,
   "metadata": {},
   "outputs": [
    {
     "name": "stdout",
     "output_type": "stream",
     "text": [
      "set()\n"
     ]
    }
   ],
   "source": [
    "print(set2_ward.difference(set2_kmeans))"
   ]
  },
  {
   "cell_type": "markdown",
   "metadata": {},
   "source": [
    "В кластере 2 изменений не произошло. Наблюдения полностью совпадают и в кластеризации методом Варда, и в k-means. \n",
    "\n",
    "В целом, можно заключить, что уточнение состава кластеров после k-means пошло на пользу, часть станций метро логично перешла в другой кластер. Можем остановиться на результатах k-means и использовать в дальнейшем анализе полученные метки кластеров.\n",
    "\n",
    "**Дополнительно.** В качестве формального показателя сходства двух различных разделений на группы иногда используют [индекс Ранда](https://en.wikipedia.org/wiki/Rand_index) (*Rand index*) или его скорректированный вариант. Вычисление значения этого индекса подразумевает, что метки групп могут быть разными, поэтому без корректировки этот индекс характеризует долю наблюдений, которые одинаково оказались в одних и тех же/разных группах при разных группировках. Корректировка подразумевает сравнение наблюдаемых значений компонентов индекса с ожидаемыми на основе таблицы сопряжённости. Без корректировки индекс принимает значения от 0 до 1, где 1 соответствует высокой степени совпадений между двумя группировками. С корректировкой логика та же, но индекс иногда может получаться отрицательным. \n",
    "\n",
    "Для вычисления нескорректированной версии индекса можно воспользоваться функцией `rand_score()` из `sklearn`:"
   ]
  },
  {
   "cell_type": "code",
   "execution_count": 23,
   "metadata": {},
   "outputs": [
    {
     "name": "stdout",
     "output_type": "stream",
     "text": [
      "0.8760510155880964\n"
     ]
    }
   ],
   "source": [
    "print(rand_score(clusters_kmeans, clusters_ward))"
   ]
  },
  {
   "cell_type": "markdown",
   "metadata": {},
   "source": [
    "Вполне высокая согласованность, что ожидаемо, поскольку логика метода Варда и k-means схожа, и там, и там, оцениваются квадраты расстояний до центроидов кластера – вычисляется внутригрупповая дисперсия."
   ]
  }
 ],
 "metadata": {
  "kernelspec": {
   "display_name": "Python 3",
   "language": "python",
   "name": "python3"
  },
  "language_info": {
   "codemirror_mode": {
    "name": "ipython",
    "version": 3
   },
   "file_extension": ".py",
   "mimetype": "text/x-python",
   "name": "python",
   "nbconvert_exporter": "python",
   "pygments_lexer": "ipython3",
   "version": "3.7.4"
  }
 },
 "nbformat": 4,
 "nbformat_minor": 2
}

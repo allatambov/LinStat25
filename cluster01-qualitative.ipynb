{
 "cells": [
  {
   "cell_type": "markdown",
   "metadata": {},
   "source": [
    "# Линейная алгебра и приложения\n",
    "\n",
    "## Иерархический кластерный анализ: качественные данные\n",
    "\n",
    "*Алла Тамбовцева*\n",
    "\n",
    "### Подготовка к работе\n",
    "\n",
    "Импортируем знакомые библиотеки и функции:"
   ]
  },
  {
   "cell_type": "code",
   "execution_count": 1,
   "metadata": {},
   "outputs": [],
   "source": [
    "import pandas as pd\n",
    "from scipy.cluster.hierarchy import linkage, dendrogram, cut_tree"
   ]
  },
  {
   "cell_type": "markdown",
   "metadata": {},
   "source": [
    "Загрузим результаты [опроса](https://forms.gle/E7B7UbLNSuCmX3Br8) по сказке «Не покидай...», который позволяет выделить популярные архетипы у студентов разных курсов и профилей. Описание архетипичных героев:\n",
    "\n",
    "* **Король Теодор:** в прошлом кавалерийский полковник, большой любитель лошадей, несильно заинтересован в управлении королевством, почти обо всём советуется с канцлером. Не прочь пошутить, хотя шутки у него не в ладу с дворцовым этикетом.\n",
    "\n",
    "* **Королева Флора:** жена короля Теодора и сестра покойной королевы Эммы, любит красивые наряды и не очень любит своего мужа, по-своему добрая и чуткая. К шуткам короля относится настороженно.\n",
    "\n",
    "* **Канцлер Давиль:** фактический правитель Абидонии, любит сочинять суровые законы и пресекать смуту, лично занимается делами, связанными с безопасностью королевства. Страдает от аллергического насморка и от того, что находится в тени короля.\n",
    "\n",
    "* **Оттилия:** сестра королевы Флоры, жена канцлера Давиля и его секретарь, обожает порядок, предпочитает экстравагантные наряды. Язвительна, любит отпускать колкости в адрес членов королевской семьи.\n",
    "\n",
    "* **Принцесса Альбина:** дочь короля и королевы, непосредственная, но своенравная девушка, мечтает выйти замуж за принца и уехать подальше от родного замка, в котором ей безумно скучно. Немного избалована и взбалмошна.\n",
    "\n",
    "* **Патрик:** воспитанник королевы, немой поэт, посвящает стихи принцессе Альбине, страдает от напускной холодности с её стороны. Тайно пишет крамольные песни, которые пользуются особой популярностью у молодёжи.\n",
    "\n",
    "* **Принц Пенапью:** наследный принц королевства Пенагония, по велению отца сватается к принцессе Альбине, не умеет хитрить и обманывать. Из-за своей наивности кажется смешным, однако умеет различать добро и зло. Любит музыку и театр, но сам талантлив только как зритель.\n",
    "\n",
    "* **Жак Веснушка:** странствующий артист, хочет вернуться на родину и продолжить дело своего отца-кукольника, умершего в ссылке, но не может из-за принятых в Абидонии законов. Несмотря на сложности, не теряет чувства юмора и всегда готов прийти на помощь.\n",
    "\n",
    "* **Марта Веснушка:** жена Жака Веснушки и его верная спутница, молодая заботливая женщина с сильным характером, всегда найдёт, что сказать. Повстречав Жака, уехала из своего дома и стала актрисой передвижного театра из двух человек.\n",
    "\n",
    "* **Марселла:** скромная и исполнительная служанка во дворце короля, старательная и терпеливая, умеет оживлять даже засохшие цветы. Тайно влюблена в Патрика, недолюбливает принцессу из-за того, что она не обращает внимания на чувства поэта."
   ]
  },
  {
   "cell_type": "markdown",
   "metadata": {},
   "source": [
    "Данные хранятся в файле Excel, доступном по [ссылке](https://disk.yandex.ru/i/BdIJFXS_yxXOnw):\n",
    "\n",
    "* первый лист (индекс 0, название `описание`): выбор героев по описанию (как выше);\n",
    "* второй лист (индекс 1, название `лайки`): лайки и дизлайки образам, проставляемые по кадрам из фильма (понравилось нет, совпало с ожиданием/нет);\n",
    "* третий лист (индекс 2, название `итоговый выбор`): итоговый выбор героев после знакомства и с описанием, и с кадрами.\n",
    "\n",
    "Загрузим данные с первого листа (для других листов добавьте аргумент `sheet_name` и впишите туда индекс или название в кавычках):"
   ]
  },
  {
   "cell_type": "code",
   "execution_count": 2,
   "metadata": {},
   "outputs": [
    {
     "data": {
      "text/html": [
       "<div>\n",
       "<style scoped>\n",
       "    .dataframe tbody tr th:only-of-type {\n",
       "        vertical-align: middle;\n",
       "    }\n",
       "\n",
       "    .dataframe tbody tr th {\n",
       "        vertical-align: top;\n",
       "    }\n",
       "\n",
       "    .dataframe thead th {\n",
       "        text-align: right;\n",
       "    }\n",
       "</style>\n",
       "<table border=\"1\" class=\"dataframe\">\n",
       "  <thead>\n",
       "    <tr style=\"text-align: right;\">\n",
       "      <th></th>\n",
       "      <th>опрос</th>\n",
       "      <th>профиль</th>\n",
       "      <th>уровень</th>\n",
       "      <th>пол</th>\n",
       "      <th>Теодор</th>\n",
       "      <th>Флора</th>\n",
       "      <th>Альбина</th>\n",
       "      <th>Патрик</th>\n",
       "      <th>Пенапью</th>\n",
       "      <th>Давиль</th>\n",
       "      <th>Оттилия</th>\n",
       "      <th>Жак</th>\n",
       "      <th>Марта</th>\n",
       "      <th>Марселла</th>\n",
       "    </tr>\n",
       "  </thead>\n",
       "  <tbody>\n",
       "    <tr>\n",
       "      <th>0</th>\n",
       "      <td>4</td>\n",
       "      <td>политология и управление</td>\n",
       "      <td>бакалавры</td>\n",
       "      <td>жен</td>\n",
       "      <td>0</td>\n",
       "      <td>1</td>\n",
       "      <td>1</td>\n",
       "      <td>0</td>\n",
       "      <td>0</td>\n",
       "      <td>0</td>\n",
       "      <td>0</td>\n",
       "      <td>0</td>\n",
       "      <td>0</td>\n",
       "      <td>0</td>\n",
       "    </tr>\n",
       "    <tr>\n",
       "      <th>1</th>\n",
       "      <td>4</td>\n",
       "      <td>политология и управление</td>\n",
       "      <td>бакалавры</td>\n",
       "      <td>жен</td>\n",
       "      <td>0</td>\n",
       "      <td>0</td>\n",
       "      <td>0</td>\n",
       "      <td>0</td>\n",
       "      <td>0</td>\n",
       "      <td>1</td>\n",
       "      <td>0</td>\n",
       "      <td>1</td>\n",
       "      <td>0</td>\n",
       "      <td>0</td>\n",
       "    </tr>\n",
       "    <tr>\n",
       "      <th>2</th>\n",
       "      <td>4</td>\n",
       "      <td>политология и управление</td>\n",
       "      <td>бакалавры</td>\n",
       "      <td>жен</td>\n",
       "      <td>0</td>\n",
       "      <td>0</td>\n",
       "      <td>0</td>\n",
       "      <td>0</td>\n",
       "      <td>0</td>\n",
       "      <td>0</td>\n",
       "      <td>0</td>\n",
       "      <td>1</td>\n",
       "      <td>0</td>\n",
       "      <td>0</td>\n",
       "    </tr>\n",
       "    <tr>\n",
       "      <th>3</th>\n",
       "      <td>4</td>\n",
       "      <td>политология и управление</td>\n",
       "      <td>бакалавры</td>\n",
       "      <td>жен</td>\n",
       "      <td>0</td>\n",
       "      <td>0</td>\n",
       "      <td>0</td>\n",
       "      <td>1</td>\n",
       "      <td>1</td>\n",
       "      <td>0</td>\n",
       "      <td>0</td>\n",
       "      <td>0</td>\n",
       "      <td>0</td>\n",
       "      <td>0</td>\n",
       "    </tr>\n",
       "    <tr>\n",
       "      <th>4</th>\n",
       "      <td>4</td>\n",
       "      <td>политология и управление</td>\n",
       "      <td>бакалавры</td>\n",
       "      <td>муж</td>\n",
       "      <td>0</td>\n",
       "      <td>0</td>\n",
       "      <td>0</td>\n",
       "      <td>0</td>\n",
       "      <td>0</td>\n",
       "      <td>1</td>\n",
       "      <td>1</td>\n",
       "      <td>0</td>\n",
       "      <td>0</td>\n",
       "      <td>0</td>\n",
       "    </tr>\n",
       "  </tbody>\n",
       "</table>\n",
       "</div>"
      ],
      "text/plain": [
       "   опрос                   профиль    уровень  пол  Теодор  Флора  Альбина  \\\n",
       "0      4  политология и управление  бакалавры  жен       0      1        1   \n",
       "1      4  политология и управление  бакалавры  жен       0      0        0   \n",
       "2      4  политология и управление  бакалавры  жен       0      0        0   \n",
       "3      4  политология и управление  бакалавры  жен       0      0        0   \n",
       "4      4  политология и управление  бакалавры  муж       0      0        0   \n",
       "\n",
       "   Патрик  Пенапью  Давиль  Оттилия  Жак  Марта  Марселла  \n",
       "0       0        0       0        0    0      0         0  \n",
       "1       0        0       1        0    1      0         0  \n",
       "2       0        0       0        0    1      0         0  \n",
       "3       1        1       0        0    0      0         0  \n",
       "4       0        0       1        1    0      0         0  "
      ]
     },
     "execution_count": 2,
     "metadata": {},
     "output_type": "execute_result"
    }
   ],
   "source": [
    "npk = pd.read_excel(\"NPK25_share.xlsx\")\n",
    "npk.head()"
   ]
  },
  {
   "cell_type": "markdown",
   "metadata": {},
   "source": [
    "В столбцах `профиль` и `пол` – хранится профиль и пол студента, в столбце `опрос` – id опроса: \n",
    "\n",
    "* 4: ОП «Политология» (год поступления 2022, нынешний 3 курс);\n",
    "* 8: ОП «Политология» (год поступления 2021, нынешний 4 курс);\n",
    "* 9: ОП «Политология» (год поступления 2023, нынешний 2 курс);\n",
    "* 14: ОП «Вычислительные социальные науки» (год поступления 2023, нынешний 2 курс);\n",
    "* 3, 10 и 13: Бизнес-информатика, Программная инженерия (Пермь);\n",
    "* остальное – разные слушатели небольших курсов в бакалавриате и магистратуре.\n",
    "\n",
    "Остальные столбцы – бинарные индикаторы, отражающие выбор или не-выбор героя по текстовому описанию. Чтобы далее было удобно выбирать бинарные столбцы с героями, в частности, после группировки, сохраним названия столбцов с 4 по 14 в список `heroes`:"
   ]
  },
  {
   "cell_type": "code",
   "execution_count": 3,
   "metadata": {},
   "outputs": [
    {
     "name": "stdout",
     "output_type": "stream",
     "text": [
      "Index(['Теодор', 'Флора', 'Альбина', 'Патрик', 'Пенапью', 'Давиль', 'Оттилия',\n",
      "       'Жак', 'Марта', 'Марселла'],\n",
      "      dtype='object')\n"
     ]
    }
   ],
   "source": [
    "heroes = npk.columns[4:14]\n",
    "print(heroes)"
   ]
  },
  {
   "cell_type": "markdown",
   "metadata": {},
   "source": [
    "Посмотрим, какие архетипы оказались популярными в «общекомандном зачете» по всем профилям:"
   ]
  },
  {
   "cell_type": "code",
   "execution_count": 4,
   "metadata": {},
   "outputs": [
    {
     "data": {
      "text/plain": [
       "Патрик      81\n",
       "Жак         76\n",
       "Давиль      70\n",
       "Марта       69\n",
       "Оттилия     63\n",
       "Пенапью     45\n",
       "Альбина     41\n",
       "Марселла    28\n",
       "Флора       24\n",
       "Теодор      22\n",
       "dtype: int64"
      ]
     },
     "execution_count": 4,
     "metadata": {},
     "output_type": "execute_result"
    }
   ],
   "source": [
    "# выбираем столбцы с героями, считаем сумму\n",
    "# сортируем суммы по убыванию\n",
    "\n",
    "npk[heroes].sum().sort_values(ascending = False)"
   ]
  },
  {
   "cell_type": "markdown",
   "metadata": {},
   "source": [
    "Невероятно, но факт: если рассматривать не только политологов, канцлер все-таки уходит на третье место, волшебная сила искусства побеждает :) Сгруппируем строки по профилям:"
   ]
  },
  {
   "cell_type": "code",
   "execution_count": 5,
   "metadata": {},
   "outputs": [
    {
     "data": {
      "text/html": [
       "<div>\n",
       "<style scoped>\n",
       "    .dataframe tbody tr th:only-of-type {\n",
       "        vertical-align: middle;\n",
       "    }\n",
       "\n",
       "    .dataframe tbody tr th {\n",
       "        vertical-align: top;\n",
       "    }\n",
       "\n",
       "    .dataframe thead th {\n",
       "        text-align: right;\n",
       "    }\n",
       "</style>\n",
       "<table border=\"1\" class=\"dataframe\">\n",
       "  <thead>\n",
       "    <tr style=\"text-align: right;\">\n",
       "      <th></th>\n",
       "      <th>Теодор</th>\n",
       "      <th>Флора</th>\n",
       "      <th>Альбина</th>\n",
       "      <th>Патрик</th>\n",
       "      <th>Пенапью</th>\n",
       "      <th>Давиль</th>\n",
       "      <th>Оттилия</th>\n",
       "      <th>Жак</th>\n",
       "      <th>Марта</th>\n",
       "      <th>Марселла</th>\n",
       "    </tr>\n",
       "    <tr>\n",
       "      <th>профиль</th>\n",
       "      <th></th>\n",
       "      <th></th>\n",
       "      <th></th>\n",
       "      <th></th>\n",
       "      <th></th>\n",
       "      <th></th>\n",
       "      <th></th>\n",
       "      <th></th>\n",
       "      <th></th>\n",
       "      <th></th>\n",
       "    </tr>\n",
       "  </thead>\n",
       "  <tbody>\n",
       "    <tr>\n",
       "      <th>другое</th>\n",
       "      <td>2</td>\n",
       "      <td>5</td>\n",
       "      <td>4</td>\n",
       "      <td>7</td>\n",
       "      <td>6</td>\n",
       "      <td>4</td>\n",
       "      <td>7</td>\n",
       "      <td>10</td>\n",
       "      <td>7</td>\n",
       "      <td>9</td>\n",
       "    </tr>\n",
       "    <tr>\n",
       "      <th>математика и информатика</th>\n",
       "      <td>9</td>\n",
       "      <td>6</td>\n",
       "      <td>14</td>\n",
       "      <td>14</td>\n",
       "      <td>11</td>\n",
       "      <td>15</td>\n",
       "      <td>19</td>\n",
       "      <td>24</td>\n",
       "      <td>20</td>\n",
       "      <td>7</td>\n",
       "    </tr>\n",
       "    <tr>\n",
       "      <th>политология и управление</th>\n",
       "      <td>8</td>\n",
       "      <td>12</td>\n",
       "      <td>19</td>\n",
       "      <td>50</td>\n",
       "      <td>21</td>\n",
       "      <td>44</td>\n",
       "      <td>28</td>\n",
       "      <td>32</td>\n",
       "      <td>32</td>\n",
       "      <td>8</td>\n",
       "    </tr>\n",
       "    <tr>\n",
       "      <th>социальные науки</th>\n",
       "      <td>3</td>\n",
       "      <td>1</td>\n",
       "      <td>4</td>\n",
       "      <td>10</td>\n",
       "      <td>7</td>\n",
       "      <td>7</td>\n",
       "      <td>9</td>\n",
       "      <td>10</td>\n",
       "      <td>10</td>\n",
       "      <td>4</td>\n",
       "    </tr>\n",
       "  </tbody>\n",
       "</table>\n",
       "</div>"
      ],
      "text/plain": [
       "                          Теодор  Флора  Альбина  Патрик  Пенапью  Давиль  \\\n",
       "профиль                                                                     \n",
       "другое                         2      5        4       7        6       4   \n",
       "математика и информатика       9      6       14      14       11      15   \n",
       "политология и управление       8     12       19      50       21      44   \n",
       "социальные науки               3      1        4      10        7       7   \n",
       "\n",
       "                          Оттилия  Жак  Марта  Марселла  \n",
       "профиль                                                  \n",
       "другое                          7   10      7         9  \n",
       "математика и информатика       19   24     20         7  \n",
       "политология и управление       28   32     32         8  \n",
       "социальные науки                9   10     10         4  "
      ]
     },
     "execution_count": 5,
     "metadata": {},
     "output_type": "execute_result"
    }
   ],
   "source": [
    "npk.groupby(\"профиль\")[heroes].sum()"
   ]
  },
  {
   "cell_type": "markdown",
   "metadata": {},
   "source": [
    "Ладно-ладно, канцлер и у политологов на втором месте, а не на первом. Посмотрим на предпочтения респондентов с разбивкой по полу:"
   ]
  },
  {
   "cell_type": "code",
   "execution_count": 6,
   "metadata": {},
   "outputs": [
    {
     "data": {
      "text/html": [
       "<div>\n",
       "<style scoped>\n",
       "    .dataframe tbody tr th:only-of-type {\n",
       "        vertical-align: middle;\n",
       "    }\n",
       "\n",
       "    .dataframe tbody tr th {\n",
       "        vertical-align: top;\n",
       "    }\n",
       "\n",
       "    .dataframe thead th {\n",
       "        text-align: right;\n",
       "    }\n",
       "</style>\n",
       "<table border=\"1\" class=\"dataframe\">\n",
       "  <thead>\n",
       "    <tr style=\"text-align: right;\">\n",
       "      <th></th>\n",
       "      <th>Теодор</th>\n",
       "      <th>Флора</th>\n",
       "      <th>Альбина</th>\n",
       "      <th>Патрик</th>\n",
       "      <th>Пенапью</th>\n",
       "      <th>Давиль</th>\n",
       "      <th>Оттилия</th>\n",
       "      <th>Жак</th>\n",
       "      <th>Марта</th>\n",
       "      <th>Марселла</th>\n",
       "    </tr>\n",
       "    <tr>\n",
       "      <th>пол</th>\n",
       "      <th></th>\n",
       "      <th></th>\n",
       "      <th></th>\n",
       "      <th></th>\n",
       "      <th></th>\n",
       "      <th></th>\n",
       "      <th></th>\n",
       "      <th></th>\n",
       "      <th></th>\n",
       "      <th></th>\n",
       "    </tr>\n",
       "  </thead>\n",
       "  <tbody>\n",
       "    <tr>\n",
       "      <th>жен</th>\n",
       "      <td>8</td>\n",
       "      <td>23</td>\n",
       "      <td>25</td>\n",
       "      <td>38</td>\n",
       "      <td>21</td>\n",
       "      <td>22</td>\n",
       "      <td>48</td>\n",
       "      <td>35</td>\n",
       "      <td>48</td>\n",
       "      <td>18</td>\n",
       "    </tr>\n",
       "    <tr>\n",
       "      <th>муж</th>\n",
       "      <td>14</td>\n",
       "      <td>1</td>\n",
       "      <td>16</td>\n",
       "      <td>43</td>\n",
       "      <td>24</td>\n",
       "      <td>48</td>\n",
       "      <td>15</td>\n",
       "      <td>41</td>\n",
       "      <td>21</td>\n",
       "      <td>10</td>\n",
       "    </tr>\n",
       "  </tbody>\n",
       "</table>\n",
       "</div>"
      ],
      "text/plain": [
       "     Теодор  Флора  Альбина  Патрик  Пенапью  Давиль  Оттилия  Жак  Марта  \\\n",
       "пол                                                                         \n",
       "жен       8     23       25      38       21      22       48   35     48   \n",
       "муж      14      1       16      43       24      48       15   41     21   \n",
       "\n",
       "     Марселла  \n",
       "пол            \n",
       "жен        18  \n",
       "муж        10  "
      ]
     },
     "execution_count": 6,
     "metadata": {},
     "output_type": "execute_result"
    }
   ],
   "source": [
    "npk.groupby(\"пол\")[heroes].sum()"
   ]
  },
  {
   "cell_type": "markdown",
   "metadata": {},
   "source": [
    "Отличительная особенность: если смотреть на тематически близких героев, находящихся в связке *муж-жена*, девушки склонны выбирать персонажа женского пола (Флора, Оттилия, Марта), а юноши – персонажа мужского пола (Теодор, Давиль, Жак).\n",
    "\n",
    "Приступим к кластеризации студентов по их предпочтениям героев. Все показатели в бинарной шкале, нормировать их не нужно."
   ]
  },
  {
   "cell_type": "markdown",
   "metadata": {},
   "source": [
    "### Иерархический кластерный анализ"
   ]
  },
  {
   "cell_type": "markdown",
   "metadata": {},
   "source": [
    "Так как переменные бинарные, для них логичнее всего использовать блочное (манхэттенское) расстояние. Попробуем задействовать его в паре с методом ближнего соседа:"
   ]
  },
  {
   "cell_type": "code",
   "execution_count": 7,
   "metadata": {},
   "outputs": [
    {
     "data": {
      "image/png": "[encoded data removed]",
      "text/plain": [
       "<Figure size 432x288 with 1 Axes>"
      ]
     },
     "metadata": {
      "needs_background": "light"
     },
     "output_type": "display_data"
    }
   ],
   "source": [
    "# выбираем столбцы из heroes и кластеризуем\n",
    "# по умолчанию method = \"single\"\n",
    "\n",
    "hc = linkage(npk[heroes], metric = \"cityblock\")\n",
    "dendrogram(hc);"
   ]
  },
  {
   "cell_type": "markdown",
   "metadata": {},
   "source": [
    "Как мы уже убеждались ранее, метод проблемный, для бинарных данных (по крайней мере, когда бинарных столбцов немало) совсем губительный. Пойдем по старой схеме: изменим его на метод дальнего соседа"
   ]
  },
  {
   "cell_type": "code",
   "execution_count": 8,
   "metadata": {},
   "outputs": [
    {
     "data": {
      "image/png": "[encoded data removed]",
      "text/plain": [
       "<Figure size 432x288 with 1 Axes>"
      ]
     },
     "metadata": {
      "needs_background": "light"
     },
     "output_type": "display_data"
    }
   ],
   "source": [
    "hc = linkage(npk[heroes], metric = \"cityblock\", method = \"complete\")\n",
    "dendrogram(hc);"
   ]
  },
  {
   "cell_type": "markdown",
   "metadata": {},
   "source": [
    "Явно лучше. Однако если присмотреться к цветовой разметке, заметим, что предлагаемое число кластеров равно 10, что совпадает с количеством героев. И без кластерного анализа можно догадаться, что респондентов можно поделить на 10 групп – предпочитающих каждый из 10 архетипов. Если сформируем более крупные группы, их будет всего 2, маловато. \n",
    "\n",
    "Выберем метод средней связи в качестве способа агрегирования:"
   ]
  },
  {
   "cell_type": "code",
   "execution_count": 9,
   "metadata": {},
   "outputs": [
    {
     "data": {
      "image/png": "[encoded data removed]",
      "text/plain": [
       "<Figure size 432x288 with 1 Axes>"
      ]
     },
     "metadata": {
      "needs_background": "light"
     },
     "output_type": "display_data"
    }
   ],
   "source": [
    "hc = linkage(npk[heroes], metric = \"cityblock\", method = \"average\")\n",
    "dendrogram(hc);"
   ]
  },
  {
   "cell_type": "markdown",
   "metadata": {},
   "source": [
    "А вот тут уже вполне информативно. Давайте выберем три группы:"
   ]
  },
  {
   "cell_type": "code",
   "execution_count": 10,
   "metadata": {},
   "outputs": [
    {
     "name": "stdout",
     "output_type": "stream",
     "text": [
      "[0 1 2 2 1 2 2 2 1 2 2 1 1 2 1 1 2 1 1 2 1 2 2 1 1 1 1 2 1 2 2 1 2 1 1 1 2\n",
      " 1 2 1 1 2 2 1 2 1 2 1 2 2 2 1 1 1 1 1 2 2 2 2 1 2 2 1 1 1 0 1 1 2 2 2 2 0\n",
      " 2 0 2 1 1 2 1 1 2 2 1 0 2 2 2 1 1 0 2 1 2 1 2 0 1 2 2 2 1 1 1 1 0 1 1 2 1\n",
      " 2 2 1 1 2 1 0 1 1 2 2 1 1 1 1 1 1 1 2 1 2 2 2 2 1 1 1 1 1 1 2 2 1 1 1 2 2\n",
      " 2 1 2 2 2 1 1 1 1 1 1 2 1 0 1 0 1 1 1 1 1 2 1 2 0 2 2 1 2 1 1 1 2 1 1 1 1\n",
      " 2 1 2 1 2 0 0 2 2 2 2 1 2 2 2 2 2 1 2 2 1 1 2 2 1 2 1 2 1 2 2 1 1 2 2 1 2\n",
      " 1 1 2 1 2 1 2 2 1 2 1 1 2 1 0 1 1 0 2 2 2 2 1 2 0 1 1 2 1 1 1 1 1 1 2 1 1\n",
      " 2 2 2 2 1 2 2 1 2 1 1 1 2 2 1 1 2 2 2]\n"
     ]
    }
   ],
   "source": [
    "clusters_= cut_tree(hc, n_clusters = 3).reshape(-1, )\n",
    "print(clusters_)"
   ]
  },
  {
   "cell_type": "markdown",
   "metadata": {},
   "source": [
    "Добавим столбец с метками кластеров в исходный датафрейм и поймем, что за кластеры мы получили:"
   ]
  },
  {
   "cell_type": "code",
   "execution_count": 11,
   "metadata": {},
   "outputs": [],
   "source": [
    "npk[\"cluster\"] = clusters_"
   ]
  },
  {
   "cell_type": "markdown",
   "metadata": {},
   "source": [
    "Сгруппируем респондентов по полученным кластерам и посчитаем суммы по бинарным столбцам, соответствующим героям:"
   ]
  },
  {
   "cell_type": "code",
   "execution_count": 12,
   "metadata": {},
   "outputs": [
    {
     "data": {
      "text/html": [
       "<div>\n",
       "<style scoped>\n",
       "    .dataframe tbody tr th:only-of-type {\n",
       "        vertical-align: middle;\n",
       "    }\n",
       "\n",
       "    .dataframe tbody tr th {\n",
       "        vertical-align: top;\n",
       "    }\n",
       "\n",
       "    .dataframe thead th {\n",
       "        text-align: right;\n",
       "    }\n",
       "</style>\n",
       "<table border=\"1\" class=\"dataframe\">\n",
       "  <thead>\n",
       "    <tr style=\"text-align: right;\">\n",
       "      <th></th>\n",
       "      <th>Теодор</th>\n",
       "      <th>Флора</th>\n",
       "      <th>Альбина</th>\n",
       "      <th>Патрик</th>\n",
       "      <th>Пенапью</th>\n",
       "      <th>Давиль</th>\n",
       "      <th>Оттилия</th>\n",
       "      <th>Жак</th>\n",
       "      <th>Марта</th>\n",
       "      <th>Марселла</th>\n",
       "    </tr>\n",
       "    <tr>\n",
       "      <th>cluster</th>\n",
       "      <th></th>\n",
       "      <th></th>\n",
       "      <th></th>\n",
       "      <th></th>\n",
       "      <th></th>\n",
       "      <th></th>\n",
       "      <th></th>\n",
       "      <th></th>\n",
       "      <th></th>\n",
       "      <th></th>\n",
       "    </tr>\n",
       "  </thead>\n",
       "  <tbody>\n",
       "    <tr>\n",
       "      <th>0</th>\n",
       "      <td>0</td>\n",
       "      <td>6</td>\n",
       "      <td>3</td>\n",
       "      <td>11</td>\n",
       "      <td>0</td>\n",
       "      <td>0</td>\n",
       "      <td>0</td>\n",
       "      <td>0</td>\n",
       "      <td>0</td>\n",
       "      <td>14</td>\n",
       "    </tr>\n",
       "    <tr>\n",
       "      <th>1</th>\n",
       "      <td>7</td>\n",
       "      <td>6</td>\n",
       "      <td>33</td>\n",
       "      <td>34</td>\n",
       "      <td>11</td>\n",
       "      <td>70</td>\n",
       "      <td>61</td>\n",
       "      <td>21</td>\n",
       "      <td>12</td>\n",
       "      <td>4</td>\n",
       "    </tr>\n",
       "    <tr>\n",
       "      <th>2</th>\n",
       "      <td>15</td>\n",
       "      <td>12</td>\n",
       "      <td>5</td>\n",
       "      <td>36</td>\n",
       "      <td>34</td>\n",
       "      <td>0</td>\n",
       "      <td>2</td>\n",
       "      <td>55</td>\n",
       "      <td>57</td>\n",
       "      <td>10</td>\n",
       "    </tr>\n",
       "  </tbody>\n",
       "</table>\n",
       "</div>"
      ],
      "text/plain": [
       "         Теодор  Флора  Альбина  Патрик  Пенапью  Давиль  Оттилия  Жак  Марта  \\\n",
       "cluster                                                                         \n",
       "0             0      6        3      11        0       0        0    0      0   \n",
       "1             7      6       33      34       11      70       61   21     12   \n",
       "2            15     12        5      36       34       0        2   55     57   \n",
       "\n",
       "         Марселла  \n",
       "cluster            \n",
       "0              14  \n",
       "1               4  \n",
       "2              10  "
      ]
     },
     "execution_count": 12,
     "metadata": {},
     "output_type": "execute_result"
    }
   ],
   "source": [
    "npk.groupby(\"cluster\")[heroes].sum()"
   ]
  },
  {
   "cell_type": "markdown",
   "metadata": {},
   "source": [
    "Итак:\n",
    "\n",
    "* Кластер 0: «романтические натуры», в топ-2 входят Марселла и Патрик с их интригующей романтической линией.\n",
    "* Кластер 1: «властолюбивые натуры», с существенным отрывом на первом месте стоит канцлер, на втором – его жена.\n",
    "* Кластер 2: «творческие натуры» с существенным отрывом в топ-2 входят странствующие артисты Жак и Марта.\n",
    "\n",
    "Кластеризация получилась вполне логичной. Можем проверить, можно ли объяснить деление на кластеры зависимостью от профиля или пола студента. Для удобства отфильтруем строки для каждой группы в отдельные датафреймы:"
   ]
  },
  {
   "cell_type": "code",
   "execution_count": 13,
   "metadata": {},
   "outputs": [],
   "source": [
    "one = npk[npk[\"cluster\"] == 0]\n",
    "two = npk[npk[\"cluster\"] == 1]\n",
    "three = npk[npk[\"cluster\"] == 2]"
   ]
  },
  {
   "cell_type": "markdown",
   "metadata": {},
   "source": [
    "Посмотрим на доли студентов разных профилей в каждом кластере:"
   ]
  },
  {
   "cell_type": "code",
   "execution_count": 14,
   "metadata": {},
   "outputs": [
    {
     "name": "stdout",
     "output_type": "stream",
     "text": [
      "политология и управление    0.470588\n",
      "другое                      0.235294\n",
      "социальные науки            0.176471\n",
      "математика и информатика    0.117647\n",
      "Name: профиль, dtype: float64\n",
      "политология и управление    0.514493\n",
      "математика и информатика    0.282609\n",
      "социальные науки            0.108696\n",
      "другое                      0.094203\n",
      "Name: профиль, dtype: float64\n",
      "политология и управление    0.463415\n",
      "математика и информатика    0.276423\n",
      "социальные науки            0.130081\n",
      "другое                      0.130081\n",
      "Name: профиль, dtype: float64\n"
     ]
    }
   ],
   "source": [
    "print(one[\"профиль\"].value_counts(normalize = True)) # кластер 0\n",
    "print(two[\"профиль\"].value_counts(normalize = True)) # кластер 1\n",
    "print(three[\"профиль\"].value_counts(normalize = True)) # кластер 2"
   ]
  },
  {
   "cell_type": "markdown",
   "metadata": {},
   "source": [
    "Никаких интересных различий по составу кластеров не наблюдается (политологов, в целом, больше в данных), можно только отметить, что в первом кластере «романтиков» больше студентов гуманитарных профилей (`другое`), а вот во втором кластере любителей власти их меньше всех. Посмотрим на распределение по полу:"
   ]
  },
  {
   "cell_type": "code",
   "execution_count": 15,
   "metadata": {},
   "outputs": [
    {
     "name": "stdout",
     "output_type": "stream",
     "text": [
      "жен    0.705882\n",
      "муж    0.294118\n",
      "Name: пол, dtype: float64\n",
      "жен    0.528986\n",
      "муж    0.471014\n",
      "Name: пол, dtype: float64\n",
      "жен    0.552846\n",
      "муж    0.447154\n",
      "Name: пол, dtype: float64\n"
     ]
    }
   ],
   "source": [
    "print(one[\"пол\"].value_counts(normalize = True)) # кластер 0\n",
    "print(two[\"пол\"].value_counts(normalize = True)) # кластер 1\n",
    "print(three[\"пол\"].value_counts(normalize = True)) # кластер 2"
   ]
  },
  {
   "cell_type": "markdown",
   "metadata": {},
   "source": [
    "Опять же, так как респондентов-девушек, в целом, больше, неудивительно, что их больше всего в каждом кластере. Здесь разумно смотреть на соотношение долей между собой. В первом кластере число девушек более, чем в два раза превышает число юношей (девушки-романтики), в остальных кластерах соотношение примерно 50 на 50. \n",
    "\n",
    "Нельзя сказать, что предпочтения архетипов явно связаны с профилем или полом. Изначально мы могли это проверить без кластерного анализа, построив таблицы сопряженности *профиль vs герои* (таблица 4 на 10) и *пол vs герои* (таблица 2 на 10) и применив критерий согласия хи-квадрат. Однако при таком большом количестве ячеек в таблицах и не очень большом объеме выборки мы, скорее всего, будем получать значительный процент маленьких частот, что будет негативно сказываться на качестве проверки гипотезы о независимости признаков. Плюс, построение таких таблиц осложняется тем, что выбрать можно было более одного героя. Поэтому категории в любом случае придется укрупнять – например, объединять выбор героев, близких тематически. А с помощью кластерного анализа мы как раз это и проделали – вместо 10 категорий получили 3 группы.\n",
    "\n",
    "Убедимся, что связи между профилем и делением на кластеры по предпочитаемым архетипам нет:"
   ]
  },
  {
   "cell_type": "code",
   "execution_count": 16,
   "metadata": {},
   "outputs": [
    {
     "name": "stdout",
     "output_type": "stream",
     "text": [
      "cluster                   0   1   2\n",
      "профиль                            \n",
      "другое                    4  13  16\n",
      "математика и информатика  2  39  34\n",
      "политология и управление  8  71  57\n",
      "социальные науки          3  15  16\n",
      "(5.378717625161262, 0.49623478539433585, 6, array([[ 2.01798561, 16.38129496, 14.60071942],\n",
      "       [ 4.58633094, 37.23021583, 33.18345324],\n",
      "       [ 8.31654676, 67.51079137, 60.17266187],\n",
      "       [ 2.07913669, 16.87769784, 15.04316547]]))\n"
     ]
    }
   ],
   "source": [
    "from scipy import stats\n",
    "\n",
    "# crosstab – таблица сопряженности\n",
    "# chi2_contingency – критерий хи-квадрат\n",
    "\n",
    "tab = pd.crosstab(npk[\"профиль\"], npk[\"cluster\"])\n",
    "print(tab)\n",
    "print(stats.chi2_contingency(tab))"
   ]
  },
  {
   "cell_type": "markdown",
   "metadata": {},
   "source": [
    "На втором месте в результате выше – p-value для проверки гипотезы о независимости признаков. P-value =  0.496 большое, гипотеза не отвергается, связи нет."
   ]
  },
  {
   "cell_type": "markdown",
   "metadata": {},
   "source": [
    "Проделаем то же для пола:"
   ]
  },
  {
   "cell_type": "code",
   "execution_count": 17,
   "metadata": {},
   "outputs": [
    {
     "name": "stdout",
     "output_type": "stream",
     "text": [
      "cluster   0   1   2\n",
      "пол                \n",
      "жен      12  73  68\n",
      "муж       5  65  55\n",
      "(1.9194324069011717, 0.3830015650755944, 2, array([[ 9.35611511, 75.94964029, 67.6942446 ],\n",
      "       [ 7.64388489, 62.05035971, 55.3057554 ]]))\n"
     ]
    }
   ],
   "source": [
    "tab2 = pd.crosstab(npk[\"пол\"], npk[\"cluster\"])\n",
    "print(tab2)\n",
    "print(stats.chi2_contingency(tab2))"
   ]
  },
  {
   "cell_type": "markdown",
   "metadata": {},
   "source": [
    "Та же история, p-value = 0.383 большое, гипотеза не отвергается, связи нет."
   ]
  }
 ],
 "metadata": {
  "kernelspec": {
   "display_name": "Python 3",
   "language": "python",
   "name": "python3"
  },
  "language_info": {
   "codemirror_mode": {
    "name": "ipython",
    "version": 3
   },
   "file_extension": ".py",
   "mimetype": "text/x-python",
   "name": "python",
   "nbconvert_exporter": "python",
   "pygments_lexer": "ipython3",
   "version": "3.7.4"
  }
 },
 "nbformat": 4,
 "nbformat_minor": 2
}
